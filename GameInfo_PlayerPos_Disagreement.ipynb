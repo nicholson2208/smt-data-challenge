{
 "cells": [
  {
   "cell_type": "markdown",
   "id": "b2997292-d8aa-4b3e-a144-a021e280fc9f",
   "metadata": {},
   "source": [
    "# Data Debugging"
   ]
  },
  {
   "cell_type": "code",
   "execution_count": 2,
   "id": "4c354591-9579-46e1-af40-d9cd5064d720",
   "metadata": {
    "tags": []
   },
   "outputs": [],
   "source": [
    "import numpy as np\n",
    "import pandas as pd\n",
    "import matplotlib.pyplot as plt\n",
    "from matplotlib.animation import FuncAnimation, PillowWriter\n",
    "from matplotlib.patches import Rectangle\n",
    "import os\n",
    "\n",
    "# Matt written files\n",
    "from src.utils import *\n",
    "from src.plotting import Baseball_Field\n",
    "from src.game import Game"
   ]
  },
  {
   "cell_type": "code",
   "execution_count": 3,
   "id": "0f96e755-8146-44e2-b96f-8f7028e44713",
   "metadata": {
    "tags": []
   },
   "outputs": [],
   "source": [
    "# pandas options\n",
    "pd.set_option('display.max_columns', None)\n",
    "pd.options.mode.chained_assignment = None  # default='warn'"
   ]
  },
  {
   "cell_type": "markdown",
   "id": "8576c716-cb5d-46ba-b594-ca9b3b6256b4",
   "metadata": {},
   "source": [
    "## Find all of the plays where the game_info and player_pos data disagree "
   ]
  },
  {
   "cell_type": "code",
   "execution_count": 4,
   "id": "370ac0d9-4740-46c2-b7a2-23a4fa0e4de9",
   "metadata": {
    "tags": []
   },
   "outputs": [
    {
     "name": "stdout",
     "output_type": "stream",
     "text": [
      "Gathered a list of 97 games\n"
     ]
    }
   ],
   "source": [
    "all_games = get_all_game_strs()"
   ]
  },
  {
   "cell_type": "code",
   "execution_count": 18,
   "id": "c7c4d7aa-c627-46ab-b8c8-e65df067cf2d",
   "metadata": {
    "tags": []
   },
   "outputs": [
    {
     "name": "stdout",
     "output_type": "stream",
     "text": [
      "Which game: 1903_01_TeamNE_TeamA2\n",
      "Distance between ball and player is large on average, should maybe clean up 12.199183415462679\n",
      "12 plays where game_info and player_pos disagree in this game\n",
      "\n",
      "Which game: 1903_16_TeamNI_TeamA3\n",
      "1 plays where game_info and player_pos disagree in this game\n",
      "\n",
      "Which game: 1902_02_TeamMG_TeamA3\n",
      "16 plays where game_info and player_pos disagree in this game\n",
      "\n",
      "Which game: 1903_08_TeamNJ_TeamB\n",
      "6 plays where game_info and player_pos disagree in this game\n",
      "\n",
      "Which game: 1900_08_TeamKL_TeamB\n",
      "132 plays where game_info and player_pos disagree in this game\n",
      "\n",
      "Which game: 1903_23_TeamNA_TeamA1\n",
      "8 plays where game_info and player_pos disagree in this game\n",
      "\n",
      "Which game: 1901_08_TeamLK_TeamB\n",
      "91 plays where game_info and player_pos disagree in this game\n",
      "\n",
      "Which game: 1902_22_TeamMA_TeamA1\n",
      "1 plays where game_info and player_pos disagree in this game\n",
      "\n",
      "Which game: 1902_12_TeamMI_TeamA3\n",
      "2 plays where game_info and player_pos disagree in this game\n",
      "\n",
      "Which game: 1903_11_TeamNC_TeamA1\n",
      "6 plays where game_info and player_pos disagree in this game\n",
      "\n",
      "Which game: 1900_07_TeamKL_TeamB\n"
     ]
    },
    {
     "name": "stderr",
     "output_type": "stream",
     "text": [
      "/Users/mattnicholson/Documents/RandomProjects/smt-data-challenge/src/game.py:1402: RuntimeWarning: invalid value encountered in cast\n",
      "  running_outs_seq[(running_index): (running_index + outs_seq.shape[0]), :] = outs_seq\n"
     ]
    },
    {
     "name": "stdout",
     "output_type": "stream",
     "text": [
      "58 plays where game_info and player_pos disagree in this game\n",
      "\n",
      "Which game: 1903_17_TeamNI_TeamA3\n"
     ]
    },
    {
     "name": "stderr",
     "output_type": "stream",
     "text": [
      "/Users/mattnicholson/Documents/RandomProjects/smt-data-challenge/src/game.py:1402: RuntimeWarning: invalid value encountered in cast\n",
      "  running_outs_seq[(running_index): (running_index + outs_seq.shape[0]), :] = outs_seq\n"
     ]
    },
    {
     "name": "stdout",
     "output_type": "stream",
     "text": [
      "2 plays where game_info and player_pos disagree in this game\n",
      "\n",
      "Which game: 1903_27_TeamNK_TeamB\n",
      "6 plays where game_info and player_pos disagree in this game\n",
      "\n",
      "Which game: 1901_12_TeamLJ_TeamB\n",
      "140 plays where game_info and player_pos disagree in this game\n",
      "\n",
      "Which game: 1900_09_TeamKK_TeamB\n",
      "130 plays where game_info and player_pos disagree in this game\n",
      "\n",
      "Which game: 1901_01_TeamLG_TeamA3\n",
      "123 plays where game_info and player_pos disagree in this game\n",
      "\n",
      "Which game: 1900_03_TeamKJ_TeamB\n",
      "Distance between ball and player is large on average, should maybe clean up 6.403561421830762\n",
      "82 plays where game_info and player_pos disagree in this game\n",
      "\n",
      "Which game: 1903_22_TeamNA_TeamA1\n",
      "4 plays where game_info and player_pos disagree in this game\n",
      "\n",
      "Which game: 1902_16_TeamMD_TeamA2\n"
     ]
    },
    {
     "name": "stderr",
     "output_type": "stream",
     "text": [
      "/Users/mattnicholson/Documents/RandomProjects/smt-data-challenge/src/game.py:1402: RuntimeWarning: invalid value encountered in cast\n",
      "  running_outs_seq[(running_index): (running_index + outs_seq.shape[0]), :] = outs_seq\n",
      "/Users/mattnicholson/Documents/RandomProjects/smt-data-challenge/src/game.py:1402: RuntimeWarning: invalid value encountered in cast\n",
      "  running_outs_seq[(running_index): (running_index + outs_seq.shape[0]), :] = outs_seq\n"
     ]
    },
    {
     "name": "stdout",
     "output_type": "stream",
     "text": [
      "93 plays where game_info and player_pos disagree in this game\n",
      "\n",
      "Which game: 1903_32_TeamNB_TeamA1\n",
      "2 plays where game_info and player_pos disagree in this game\n",
      "\n",
      "Which game: 1901_07_TeamLK_TeamB\n",
      "123 plays where game_info and player_pos disagree in this game\n",
      "\n",
      "Which game: 1902_23_TeamMA_TeamA1\n",
      "26 plays where game_info and player_pos disagree in this game\n",
      "\n",
      "Which game: 1902_15_TeamMK_TeamB\n",
      "1 plays where game_info and player_pos disagree in this game\n",
      "\n",
      "Which game: 1902_04_TeamML_TeamB\n",
      "15 plays where game_info and player_pos disagree in this game\n",
      "\n",
      "Which game: 1903_24_TeamNA_TeamA1\n",
      "0 plays where game_info and player_pos disagree in this game\n",
      "\n",
      "Which game: 1903_03_TeamNE_TeamA2\n",
      "8 plays where game_info and player_pos disagree in this game\n",
      "\n",
      "Which game: 1903_12_TeamNC_TeamA1\n",
      "1 plays where game_info and player_pos disagree in this game\n",
      "\n",
      "Which game: 1903_09_TeamNJ_TeamB\n",
      "Distance between ball and player is large on average, should maybe clean up 12.947763118481664\n"
     ]
    },
    {
     "name": "stderr",
     "output_type": "stream",
     "text": [
      "/Users/mattnicholson/Documents/RandomProjects/smt-data-challenge/src/game.py:1402: RuntimeWarning: invalid value encountered in cast\n",
      "  running_outs_seq[(running_index): (running_index + outs_seq.shape[0]), :] = outs_seq\n"
     ]
    },
    {
     "name": "stdout",
     "output_type": "stream",
     "text": [
      "14 plays where game_info and player_pos disagree in this game\n",
      "\n",
      "Which game: 1903_19_TeamNL_TeamB\n",
      "8 plays where game_info and player_pos disagree in this game\n",
      "\n",
      "Which game: 1901_02_TeamLG_TeamA3\n",
      "96 plays where game_info and player_pos disagree in this game\n",
      "\n",
      "Which game: 1903_31_TeamNB_TeamA1\n"
     ]
    },
    {
     "name": "stderr",
     "output_type": "stream",
     "text": [
      "/Users/mattnicholson/Documents/RandomProjects/smt-data-challenge/src/game.py:1402: RuntimeWarning: invalid value encountered in cast\n",
      "  running_outs_seq[(running_index): (running_index + outs_seq.shape[0]), :] = outs_seq\n"
     ]
    },
    {
     "name": "stdout",
     "output_type": "stream",
     "text": [
      "4 plays where game_info and player_pos disagree in this game\n",
      "\n",
      "Which game: 1901_09_TeamLK_TeamB\n",
      "172 plays where game_info and player_pos disagree in this game\n",
      "\n",
      "Which game: 1902_10_TeamMI_TeamA3\n"
     ]
    },
    {
     "name": "stderr",
     "output_type": "stream",
     "text": [
      "/Users/mattnicholson/Documents/RandomProjects/smt-data-challenge/src/game.py:1402: RuntimeWarning: invalid value encountered in cast\n",
      "  running_outs_seq[(running_index): (running_index + outs_seq.shape[0]), :] = outs_seq\n"
     ]
    },
    {
     "name": "stdout",
     "output_type": "stream",
     "text": [
      "37 plays where game_info and player_pos disagree in this game\n",
      "\n",
      "Which game: 1903_02_TeamNE_TeamA2\n"
     ]
    },
    {
     "name": "stderr",
     "output_type": "stream",
     "text": [
      "/Users/mattnicholson/Documents/RandomProjects/smt-data-challenge/src/game.py:1402: RuntimeWarning: invalid value encountered in cast\n",
      "  running_outs_seq[(running_index): (running_index + outs_seq.shape[0]), :] = outs_seq\n"
     ]
    },
    {
     "name": "stdout",
     "output_type": "stream",
     "text": [
      "14 plays where game_info and player_pos disagree in this game\n",
      "\n",
      "Which game: 1902_26_TeamMC_TeamA1\n",
      "179 plays where game_info and player_pos disagree in this game\n",
      "\n",
      "Which game: 1903_26_TeamNK_TeamB\n",
      "3 plays where game_info and player_pos disagree in this game\n",
      "\n",
      "Which game: 1902_24_TeamMA_TeamA1\n",
      "106 plays where game_info and player_pos disagree in this game\n",
      "\n",
      "Which game: 1902_01_TeamMG_TeamA3\n",
      "38 plays where game_info and player_pos disagree in this game\n",
      "\n",
      "Which game: 1901_18_TeamLH_TeamA3\n",
      "64 plays where game_info and player_pos disagree in this game\n",
      "\n",
      "Which game: 1901_03_TeamLG_TeamA3\n",
      "162 plays where game_info and player_pos disagree in this game\n",
      "\n",
      "Which game: 1900_06_TeamKL_TeamB\n",
      "64 plays where game_info and player_pos disagree in this game\n",
      "\n",
      "Which game: 1902_14_TeamMK_TeamB\n",
      "31 plays where game_info and player_pos disagree in this game\n",
      "\n",
      "Which game: 1902_05_TeamML_TeamB\n",
      "47 plays where game_info and player_pos disagree in this game\n",
      "\n",
      "Which game: 1902_14_TeamMD_TeamA2\n"
     ]
    },
    {
     "name": "stderr",
     "output_type": "stream",
     "text": [
      "/Users/mattnicholson/Documents/RandomProjects/smt-data-challenge/src/game.py:1402: RuntimeWarning: invalid value encountered in cast\n",
      "  running_outs_seq[(running_index): (running_index + outs_seq.shape[0]), :] = outs_seq\n"
     ]
    },
    {
     "name": "stdout",
     "output_type": "stream",
     "text": [
      "105 plays where game_info and player_pos disagree in this game\n",
      "\n",
      "Which game: 1903_30_TeamNB_TeamA1\n",
      "10 plays where game_info and player_pos disagree in this game\n",
      "\n",
      "Which game: 1902_11_TeamMI_TeamA3\n",
      "12 plays where game_info and player_pos disagree in this game\n",
      "\n",
      "Which game: 1903_05_TeamND_TeamA2\n",
      "Distance between ball and player is large on average, should maybe clean up 14.67974023000007\n",
      "4 plays where game_info and player_pos disagree in this game\n",
      "\n",
      "Which game: 1903_26_TeamNH_TeamA3\n",
      "6 plays where game_info and player_pos disagree in this game\n",
      "\n",
      "Which game: 1903_15_TeamNG_TeamA3\n"
     ]
    },
    {
     "name": "stderr",
     "output_type": "stream",
     "text": [
      "/Users/mattnicholson/Documents/RandomProjects/smt-data-challenge/src/game.py:1402: RuntimeWarning: invalid value encountered in cast\n",
      "  running_outs_seq[(running_index): (running_index + outs_seq.shape[0]), :] = outs_seq\n",
      "/Users/mattnicholson/Documents/RandomProjects/smt-data-challenge/src/game.py:1402: RuntimeWarning: invalid value encountered in cast\n",
      "  running_outs_seq[(running_index): (running_index + outs_seq.shape[0]), :] = outs_seq\n"
     ]
    },
    {
     "name": "stdout",
     "output_type": "stream",
     "text": [
      "7 plays where game_info and player_pos disagree in this game\n",
      "\n",
      "Which game: 1900_04_TeamKK_TeamB\n",
      "117 plays where game_info and player_pos disagree in this game\n",
      "\n",
      "Which game: 1903_20_TeamNL_TeamB\n",
      "2 plays where game_info and player_pos disagree in this game\n",
      "\n",
      "Which game: 1902_06_TeamML_TeamB\n",
      "124 plays where game_info and player_pos disagree in this game\n",
      "\n",
      "Which game: 1903_18_TeamNI_TeamA3\n",
      "1 plays where game_info and player_pos disagree in this game\n",
      "\n",
      "Which game: 1902_09_TeamMJ_TeamB\n",
      "1 plays where game_info and player_pos disagree in this game\n",
      "\n",
      "Which game: 1901_14_TeamLL_TeamB\n",
      "6 plays where game_info and player_pos disagree in this game\n",
      "\n",
      "Which game: 1900_01_TeamKJ_TeamB\n",
      "99 plays where game_info and player_pos disagree in this game\n",
      "\n",
      "Which game: 1902_26_TeamMH_TeamA3\n",
      "23 plays where game_info and player_pos disagree in this game\n",
      "\n",
      "Which game: 1901_10_TeamLJ_TeamB\n",
      "136 plays where game_info and player_pos disagree in this game\n",
      "\n",
      "Which game: 1903_25_TeamNK_TeamB\n",
      "5 plays where game_info and player_pos disagree in this game\n",
      "\n",
      "Which game: 1903_14_TeamNG_TeamA3\n"
     ]
    },
    {
     "name": "stderr",
     "output_type": "stream",
     "text": [
      "/Users/mattnicholson/Documents/RandomProjects/smt-data-challenge/src/game.py:1402: RuntimeWarning: invalid value encountered in cast\n",
      "  running_outs_seq[(running_index): (running_index + outs_seq.shape[0]), :] = outs_seq\n",
      "/Users/mattnicholson/Documents/RandomProjects/smt-data-challenge/src/game.py:1402: RuntimeWarning: invalid value encountered in cast\n",
      "  running_outs_seq[(running_index): (running_index + outs_seq.shape[0]), :] = outs_seq\n",
      "/Users/mattnicholson/Documents/RandomProjects/smt-data-challenge/src/game.py:1402: RuntimeWarning: invalid value encountered in cast\n",
      "  running_outs_seq[(running_index): (running_index + outs_seq.shape[0]), :] = outs_seq\n",
      "/Users/mattnicholson/Documents/RandomProjects/smt-data-challenge/src/game.py:1402: RuntimeWarning: invalid value encountered in cast\n",
      "  running_outs_seq[(running_index): (running_index + outs_seq.shape[0]), :] = outs_seq\n",
      "/Users/mattnicholson/Documents/RandomProjects/smt-data-challenge/src/game.py:1402: RuntimeWarning: invalid value encountered in cast\n",
      "  running_outs_seq[(running_index): (running_index + outs_seq.shape[0]), :] = outs_seq\n",
      "/Users/mattnicholson/Documents/RandomProjects/smt-data-challenge/src/game.py:1402: RuntimeWarning: invalid value encountered in cast\n",
      "  running_outs_seq[(running_index): (running_index + outs_seq.shape[0]), :] = outs_seq\n"
     ]
    },
    {
     "name": "stdout",
     "output_type": "stream",
     "text": [
      "1 plays where game_info and player_pos disagree in this game\n",
      "\n",
      "Which game: 1902_29_TeamMF_TeamA2\n"
     ]
    },
    {
     "name": "stderr",
     "output_type": "stream",
     "text": [
      "/Users/mattnicholson/Documents/RandomProjects/smt-data-challenge/src/game.py:1402: RuntimeWarning: invalid value encountered in cast\n",
      "  running_outs_seq[(running_index): (running_index + outs_seq.shape[0]), :] = outs_seq\n"
     ]
    },
    {
     "name": "stdout",
     "output_type": "stream",
     "text": [
      "89 plays where game_info and player_pos disagree in this game\n",
      "\n",
      "Which game: 1902_28_TeamMC_TeamA1\n",
      "18 plays where game_info and player_pos disagree in this game\n",
      "\n",
      "Which game: 1901_04_TeamLI_TeamA3\n",
      "24 plays where game_info and player_pos disagree in this game\n",
      "\n",
      "Which game: 1903_28_TeamNF_TeamA2\n",
      "0 plays where game_info and player_pos disagree in this game\n",
      "\n",
      "Which game: 1901_16_TeamLH_TeamA3\n",
      "131 plays where game_info and player_pos disagree in this game\n",
      "\n",
      "Which game: 1902_25_TeamMH_TeamA3\n",
      "4 plays where game_info and player_pos disagree in this game\n",
      "\n",
      "Which game: 1900_05_TeamKK_TeamB\n",
      "Distance between ball and player is large on average, should maybe clean up 6.6387674989651195\n",
      "162 plays where game_info and player_pos disagree in this game\n",
      "\n",
      "Which game: 1903_07_TeamND_TeamA2\n",
      "26 plays where game_info and player_pos disagree in this game\n",
      "\n",
      "Which game: 1903_04_TeamNC_TeamA1\n"
     ]
    },
    {
     "name": "stderr",
     "output_type": "stream",
     "text": [
      "/Users/mattnicholson/Documents/RandomProjects/smt-data-challenge/src/game.py:1402: RuntimeWarning: invalid value encountered in cast\n",
      "  running_outs_seq[(running_index): (running_index + outs_seq.shape[0]), :] = outs_seq\n",
      "/Users/mattnicholson/Documents/RandomProjects/smt-data-challenge/src/game.py:1402: RuntimeWarning: invalid value encountered in cast\n",
      "  running_outs_seq[(running_index): (running_index + outs_seq.shape[0]), :] = outs_seq\n"
     ]
    },
    {
     "name": "stdout",
     "output_type": "stream",
     "text": [
      "4 plays where game_info and player_pos disagree in this game\n",
      "\n",
      "Which game: 1902_17_TeamMB_TeamA1\n",
      "105 plays where game_info and player_pos disagree in this game\n",
      "\n",
      "Which game: 1902_08_TeamMJ_TeamB\n",
      "63 plays where game_info and player_pos disagree in this game\n",
      "\n",
      "Which game: 1903_10_TeamNJ_TeamB\n",
      "1 plays where game_info and player_pos disagree in this game\n",
      "\n",
      "Which game: 1903_29_TeamNF_TeamA2\n",
      "2 plays where game_info and player_pos disagree in this game\n",
      "\n",
      "Which game: 1901_15_TeamLL_TeamB\n",
      "Distance between ball and player is large on average, should maybe clean up 5.3524560073690175\n",
      "107 plays where game_info and player_pos disagree in this game\n",
      "\n",
      "Which game: 1903_13_TeamNG_TeamA3\n",
      "2 plays where game_info and player_pos disagree in this game\n",
      "\n",
      "Which game: 1903_21_TeamNL_TeamB\n",
      "3 plays where game_info and player_pos disagree in this game\n",
      "\n",
      "Which game: 1903_30_TeamNF_TeamA2\n",
      "3 plays where game_info and player_pos disagree in this game\n",
      "\n",
      "Which game: 1903_06_TeamND_TeamA2\n",
      "Distance between ball and player is large on average, should maybe clean up 15.614163808346984\n",
      "2 plays where game_info and player_pos disagree in this game\n",
      "\n",
      "Which game: 1903_25_TeamNH_TeamA3\n"
     ]
    },
    {
     "name": "stderr",
     "output_type": "stream",
     "text": [
      "/Users/mattnicholson/Documents/RandomProjects/smt-data-challenge/src/game.py:1402: RuntimeWarning: invalid value encountered in cast\n",
      "  running_outs_seq[(running_index): (running_index + outs_seq.shape[0]), :] = outs_seq\n"
     ]
    },
    {
     "name": "stdout",
     "output_type": "stream",
     "text": [
      "12 plays where game_info and player_pos disagree in this game\n",
      "\n",
      "Which game: 1901_11_TeamLJ_TeamB\n",
      "140 plays where game_info and player_pos disagree in this game\n",
      "\n",
      "Which game: 1902_31_TeamMF_TeamA2\n",
      "1 plays where game_info and player_pos disagree in this game\n",
      "\n",
      "---------------\n"
     ]
    },
    {
     "ename": "IndexError",
     "evalue": "Replacement index 1 out of range for positional args tuple",
     "output_type": "error",
     "traceback": [
      "\u001b[0;31m---------------------------------------------------------------------------\u001b[0m",
      "\u001b[0;31mIndexError\u001b[0m                                Traceback (most recent call last)",
      "Cell \u001b[0;32mIn[18], line 41\u001b[0m\n\u001b[1;32m     37\u001b[0m     total_plays \u001b[38;5;241m+\u001b[39m\u001b[38;5;241m=\u001b[39m g_game_info\u001b[38;5;241m.\u001b[39mshape[\u001b[38;5;241m0\u001b[39m]\n\u001b[1;32m     39\u001b[0m \u001b[38;5;28mprint\u001b[39m(\u001b[38;5;124m\"\u001b[39m\u001b[38;5;124m---------------\u001b[39m\u001b[38;5;124m\"\u001b[39m)    \n\u001b[0;32m---> 41\u001b[0m \u001b[38;5;28mprint\u001b[39m(\u001b[38;5;124;43m\"\u001b[39;49m\u001b[38;5;132;43;01m{}\u001b[39;49;00m\u001b[38;5;124;43m \u001b[39;49m\u001b[38;5;132;43;01m{}\u001b[39;49;00m\u001b[38;5;124;43m plays where game_info and player_pos disagree\u001b[39;49m\u001b[38;5;130;43;01m\\n\u001b[39;49;00m\u001b[38;5;124;43m\"\u001b[39;49m\u001b[38;5;241;43m.\u001b[39;49m\u001b[43mformat\u001b[49m\u001b[43m(\u001b[49m\n\u001b[1;32m     42\u001b[0m \u001b[43m    \u001b[49m\u001b[43mtotal_disagreements\u001b[49m\n\u001b[1;32m     43\u001b[0m \u001b[43m)\u001b[49m)\n",
      "\u001b[0;31mIndexError\u001b[0m: Replacement index 1 out of range for positional args tuple"
     ]
    }
   ],
   "source": [
    "all_disagreements = pd.DataFrame()\n",
    "total_plays = 0\n",
    "total_disagreements = 0\n",
    "\n",
    "disagree_proportions = []\n",
    "\n",
    "for which_game in all_games:\n",
    "    if which_game in [\"1902_19_TeamME_TeamA2\", \"1902_13_TeamMD_TeamA2\", \"1902_03_TeamMG_TeamA3\", \"1901_13_TeamLL_TeamB\",\n",
    "                     \"1902_18_TeamMB_TeamA1\", \"1900_02_TeamKJ_TeamB\", \"1901_06_TeamLI_TeamA3\", \"1902_27_TeamMH_TeamA3\",\n",
    "                     \"1902_13_TeamMK_TeamB\", \"1903_27_TeamNH_TeamA3\", \"1902_07_TeamMJ_TeamB\", \"1902_20_TeamME_TeamA2\",\n",
    "                     \"1902_30_TeamMF_TeamA2\", \"1901_05_TeamLI_TeamA3\", \"1901_17_TeamLH_TeamA3\", \"1902_21_TeamME_TeamA2\",\n",
    "                     \"\"]:\n",
    "        continue\n",
    "    \n",
    "    print(\"Which game: {}\".format(which_game))\n",
    "    \n",
    "    g = Game(which_game)\n",
    "    g_game_info = g.game_info_df.copy()\n",
    "    g_game_events = g.game_events_df.copy()\n",
    "    \n",
    "    \n",
    "    this_game_disagreements = g_game_info.loc[\n",
    "        g_game_info[\"player_pos_and_info_agree\"] == 0\n",
    "    ]\n",
    "    \n",
    "    all_disagreements = pd.concat([all_disagreements, this_game_disagreements])\n",
    "\n",
    "    n_this_game_disagreements = this_game_disagreements.shape[0]\n",
    "    \n",
    "    print(\"{} plays where game_info and player_pos disagree in this game\\n\".format(\n",
    "        n_this_game_disagreements\n",
    "    ))\n",
    "    \n",
    "    disagree_proportions.append(n_this_game_disagreements /  g_game_info.shape[0])\n",
    "    \n",
    "    total_disagreements += n_this_game_disagreements\n",
    "    total_plays += g_game_info.shape[0]\n",
    "    \n",
    "print(\"---------------\")    \n",
    "\n",
    "print(\"{} plays where game_info and player_pos disagree\\n\".format(\n",
    "    total_disagreements\n",
    "))\n",
    "    \n",
    "    "
   ]
  },
  {
   "cell_type": "code",
   "execution_count": 19,
   "id": "554a9d95-b35b-4d95-a858-66e9cb04d86b",
   "metadata": {
    "tags": []
   },
   "outputs": [],
   "source": [
    "all_disagreements.to_csv(\"data_debugging/player_pos_and_info_disagrements.csv\")"
   ]
  },
  {
   "cell_type": "markdown",
   "id": "8c34dec3-6819-4e9d-b2e8-3c011fe8cecb",
   "metadata": {},
   "source": [
    "### Some quick stats on this"
   ]
  },
  {
   "cell_type": "code",
   "execution_count": 20,
   "id": "6adf24ad-faa7-41c9-90d8-9e49873f9024",
   "metadata": {
    "tags": []
   },
   "outputs": [],
   "source": [
    "cols = [\"game_str\", \"home_team\"]\n",
    "\n",
    "all_disagreements[cols].groupby(\"game_str\").count()\n",
    "plt.show()"
   ]
  },
  {
   "cell_type": "code",
   "execution_count": 17,
   "id": "2ca1ecfc-240f-4e0c-8a1a-52cfa9e184af",
   "metadata": {
    "tags": []
   },
   "outputs": [
    {
     "data": {
      "text/plain": [
       "game_str               home_team\n",
       "1900_01_TeamKJ_TeamB   TeamB        1.0\n",
       "1900_03_TeamKJ_TeamB   TeamB        1.0\n",
       "1900_04_TeamKK_TeamB   TeamB        1.0\n",
       "1900_05_TeamKK_TeamB   TeamB        1.0\n",
       "1900_06_TeamKL_TeamB   TeamB        1.0\n",
       "                                   ... \n",
       "1903_29_TeamNF_TeamA2  TeamA2       1.0\n",
       "1903_30_TeamNB_TeamA1  TeamA1       1.0\n",
       "1903_30_TeamNF_TeamA2  TeamA2       1.0\n",
       "1903_31_TeamNB_TeamA1  TeamA1       1.0\n",
       "1903_32_TeamNB_TeamA1  TeamA1       1.0\n",
       "Name: proportion, Length: 79, dtype: float64"
      ]
     },
     "execution_count": 17,
     "metadata": {},
     "output_type": "execute_result"
    }
   ],
   "source": [
    "all_disagreements[cols].groupby(\"game_str\").value_counts(normalize=True)\n"
   ]
  },
  {
   "cell_type": "code",
   "execution_count": null,
   "id": "0b0abb80-b968-4191-a86b-2562524600b8",
   "metadata": {},
   "outputs": [],
   "source": []
  },
  {
   "cell_type": "code",
   "execution_count": 22,
   "id": "b2cda414-aff2-4143-853d-49b7485da293",
   "metadata": {
    "tags": []
   },
   "outputs": [
    {
     "data": {
      "image/png": "[encoded data removed]",
      "text/plain": [
       "<Figure size 640x480 with 1 Axes>"
      ]
     },
     "metadata": {},
     "output_type": "display_data"
    }
   ],
   "source": [
    "plt.close()\n",
    "\n",
    "f, a = plt.subplots()\n",
    "\n",
    "a.hist(disagree_proportions)\n",
    "\n",
    "plt.xlabel('Proportion of plays within game where game_info and player_pos disagree')\n",
    "\n",
    "plt.title(\"Frequency of within game game_info and player_pos disagreements\")\n",
    "\n",
    "plt.show()"
   ]
  },
  {
   "cell_type": "code",
   "execution_count": 23,
   "id": "0088881d-29f6-402b-9775-a5680c4c1b85",
   "metadata": {
    "tags": []
   },
   "outputs": [
    {
     "data": {
      "text/plain": [
       "81"
      ]
     },
     "execution_count": 23,
     "metadata": {},
     "output_type": "execute_result"
    }
   ],
   "source": [
    "len(disagree_proportions)"
   ]
  },
  {
   "cell_type": "code",
   "execution_count": null,
   "id": "9ffccd99-2c71-48b8-89da-7c3d9fc3ee8b",
   "metadata": {},
   "outputs": [],
   "source": []
  },
  {
   "cell_type": "code",
   "execution_count": null,
   "id": "38ed0b20-9112-418e-b2fc-6df498e4df1c",
   "metadata": {},
   "outputs": [],
   "source": []
  }
 ],
 "metadata": {
  "kernelspec": {
   "display_name": "Python 3 (ipykernel)",
   "language": "python",
   "name": "python3"
  },
  "language_info": {
   "codemirror_mode": {
    "name": "ipython",
    "version": 3
   },
   "file_extension": ".py",
   "mimetype": "text/x-python",
   "name": "python",
   "nbconvert_exporter": "python",
   "pygments_lexer": "ipython3",
   "version": "3.11.3"
  }
 },
 "nbformat": 4,
 "nbformat_minor": 5
}
