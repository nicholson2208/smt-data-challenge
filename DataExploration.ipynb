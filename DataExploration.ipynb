{
 "cells": [
  {
   "cell_type": "markdown",
   "id": "f4d4ade9-e58d-482a-b8a5-76ef21570e37",
   "metadata": {},
   "source": [
    "# Data Exploration  \n",
    "\n",
    "\n",
    "Goal: how many of each event type we have "
   ]
  },
  {
   "cell_type": "code",
   "execution_count": 11,
   "id": "2810dccc-47e6-4e46-8178-b21a6c0fb0a0",
   "metadata": {},
   "outputs": [],
   "source": [
    "import numpy as np\n",
    "import pandas as pd\n",
    "import matplotlib.pyplot as plt\n",
    "from matplotlib.animation import FuncAnimation, PillowWriter\n",
    "import os\n",
    "\n",
    "\n",
    "from src.utils import *\n",
    "from src.plotting import Baseball_Field\n",
    "from src.game import Game"
   ]
  },
  {
   "cell_type": "code",
   "execution_count": 12,
   "id": "8dce92bc-c2df-4f3e-9305-b94049a8ee12",
   "metadata": {},
   "outputs": [],
   "source": [
    "pd.set_option('display.max_columns', None)\n",
    "pd.options.mode.chained_assignment = None  # default='warn'\n"
   ]
  },
  {
   "cell_type": "markdown",
   "id": "39b05b2a-7f41-49be-8af6-e0aa4d1aeadf",
   "metadata": {
    "tags": []
   },
   "source": [
    "## See what kind of variables might be nice to have"
   ]
  },
  {
   "cell_type": "code",
   "execution_count": null,
   "id": "55376879-9398-41d1-8c72-b57711bec242",
   "metadata": {},
   "outputs": [],
   "source": [
    "# \"1900_02_TeamKJ_TeamB\" is what I have been working with so far,\n",
    "# but this is early, so it might not have the later events?\n",
    "\n",
    "which_game = \"1903_02_TeamNE_TeamA2\" # \"1903_01_TeamNE_TeamA2\" # \"1900_02_TeamKJ_TeamB\""
   ]
  },
  {
   "cell_type": "code",
   "execution_count": null,
   "id": "f519a135-cb4f-4967-ba8b-0e7343d8dc30",
   "metadata": {},
   "outputs": [],
   "source": [
    "game_info_df = pd.read_csv(\"data/game_info/game_info-\" + which_game + \".csv\", index_col=0)\n",
    "game_info_df.head()"
   ]
  },
  {
   "cell_type": "code",
   "execution_count": null,
   "id": "d671c5fd-3a1e-4370-942a-62d7f22a4c1d",
   "metadata": {},
   "outputs": [],
   "source": [
    "game_events_df = pd.read_csv(\"data/game_events/game_events-\" + which_game + \".csv\", index_col=0)\n",
    "game_events_df[\"event\"] = game_events_df[\"event_code\"].map(lambda x: EVENT_CODE_TO_DESC[x])\n",
    "game_events_df.head()"
   ]
  },
  {
   "cell_type": "markdown",
   "id": "9c241c5f-d88e-4a9c-aca3-26bf884ffb37",
   "metadata": {},
   "source": [
    "#### All of the plays that have a 0 for batter, but have a ball hit into play"
   ]
  },
  {
   "cell_type": "code",
   "execution_count": null,
   "id": "1964ed45-d313-405a-b930-cf941485a98e",
   "metadata": {},
   "outputs": [],
   "source": [
    "zero_batters = game_info_df.loc[game_info_df[\"batter\"] == 0, :]\n",
    "zero_batters"
   ]
  },
  {
   "cell_type": "code",
   "execution_count": null,
   "id": "e38745b3-0ac3-44ad-a49f-4980fefb37e4",
   "metadata": {},
   "outputs": [],
   "source": [
    "game_info_df.loc[game_info_df[\"play_per_game\"].isin([3, 4, 5]), :]"
   ]
  },
  {
   "cell_type": "code",
   "execution_count": null,
   "id": "17f36d11-fbb2-4f63-aa73-7c16d259c2ed",
   "metadata": {},
   "outputs": [],
   "source": [
    "game_events_df.loc[(game_events_df[\"play_per_game\"].isin(zero_batters[\"play_per_game\"]))# &\\\n",
    "                   #(game_events_df[\"event_code\"] == 4)\n",
    "                   , [\"game_str\", \"play_id\", \"play_per_game\", \"event_code\"]]"
   ]
  },
  {
   "cell_type": "markdown",
   "id": "71652654-64ed-4801-83a6-fd46de26b71a",
   "metadata": {},
   "source": [
    "#### find all the instances where a ball is hit into play, but it shows that there is no batter"
   ]
  },
  {
   "cell_type": "code",
   "execution_count": 14,
   "id": "77227336-4a20-4a78-a6d0-9c9baf626d4f",
   "metadata": {},
   "outputs": [
    {
     "name": "stdout",
     "output_type": "stream",
     "text": [
      "97\n"
     ]
    }
   ],
   "source": [
    "all_games = []\n",
    "\n",
    "for sub_dir, dirs, files in os.walk('data/game_events/'):\n",
    "    for file in files:\n",
    "        if \"checkpoint\" in file:\n",
    "                continue\n",
    "    \n",
    "        all_games.append(file.split(\"-\")[-1].split(\".csv\")[0])\n",
    "\n",
    "print(len(all_games))        "
   ]
  },
  {
   "cell_type": "code",
   "execution_count": null,
   "id": "8ee0f359-5742-42c2-9d89-b211ededc379",
   "metadata": {},
   "outputs": [],
   "source": [
    "zeros = pd.DataFrame()\n",
    "\n",
    "for g in all_games:\n",
    "    this_game = Game(g)\n",
    "    \n",
    "    zero_batters = this_game.game_info_df.loc[this_game.game_info_df[\"batter\"] == 0, :]\n",
    "\n",
    "    events_w_data = this_game.game_events_df.loc[(this_game.game_events_df[\"play_per_game\"].isin(zero_batters[\"play_per_game\"])) # &\\\n",
    "                                                #(this_game.game_events_df[\"event_code\"] == 4)\n",
    "                                                , [\"game_str\", \"play_id\", \"play_per_game\", \"event_code\"]]\n",
    "    \n",
    "    zeros = pd.concat([zeros, events_w_data])\n",
    "    \n"
   ]
  },
  {
   "cell_type": "code",
   "execution_count": null,
   "id": "1941ed3d-5a67-4d2b-a349-e5fcf431df84",
   "metadata": {},
   "outputs": [],
   "source": [
    "zeros[[\"game_str\", \"play_id\", \"play_per_game\"]].drop_duplicates()"
   ]
  },
  {
   "cell_type": "code",
   "execution_count": null,
   "id": "66fcecbf-590b-45bd-9d3d-8715630be9d3",
   "metadata": {},
   "outputs": [],
   "source": [
    "zeros[[\"game_str\", \"play_id\", \"play_per_game\"]].drop_duplicates().to_csv(\"data_debugging/batter_as_zeros.csv\", index = False)"
   ]
  },
  {
   "cell_type": "code",
   "execution_count": null,
   "id": "1358d4b6-907d-4c47-925a-1dd8238df050",
   "metadata": {},
   "outputs": [],
   "source": [
    "game_1903_01 = Game(\"1903_01_TeamNE_TeamA2\")"
   ]
  },
  {
   "cell_type": "code",
   "execution_count": null,
   "id": "93c16184-0abc-4fc2-bfb3-6c4ed20cac3f",
   "metadata": {},
   "outputs": [],
   "source": [
    "game_1903_01.game_info_df.loc[(game_1903_01.game_info_df[\"batter\"]) == 0, :]"
   ]
  },
  {
   "cell_type": "code",
   "execution_count": null,
   "id": "5fb6ff4d-79f3-46cd-bea0-3fe413950fe3",
   "metadata": {},
   "outputs": [],
   "source": [
    "game_1903_01.game_info_df.loc[(game_1903_01.game_info_df[\"batter\"]) == 0, :]"
   ]
  },
  {
   "cell_type": "code",
   "execution_count": null,
   "id": "217fe99b-7060-4780-8345-fa181e8e7d84",
   "metadata": {},
   "outputs": [],
   "source": []
  },
  {
   "cell_type": "markdown",
   "id": "acc3a62d-90be-4700-96cf-a82d62db7c04",
   "metadata": {},
   "source": [
    "#### Do the fields I except to line up, actually line up?"
   ]
  },
  {
   "cell_type": "code",
   "execution_count": null,
   "id": "9321b9e6-205b-43bc-8180-a734f2a8887e",
   "metadata": {},
   "outputs": [],
   "source": [
    "mismatched_play_ids = game_events_df.loc[game_events_df[\"play_id\"] != game_events_df[\"play_per_game\"], :]"
   ]
  },
  {
   "cell_type": "code",
   "execution_count": null,
   "id": "d68bdebc-08f7-4d21-bc23-6e2c445accb9",
   "metadata": {},
   "outputs": [],
   "source": [
    "mismatched_play_ids"
   ]
  },
  {
   "cell_type": "code",
   "execution_count": null,
   "id": "9685ee23-97af-4e1b-b0c2-dca29a94fef1",
   "metadata": {},
   "outputs": [],
   "source": [
    "#mismatched_play_ids[\"play_id_shifted\"] = \n",
    "first_mismatch = mismatched_play_ids.loc[mismatched_play_ids[\"play_id\"].diff() != mismatched_play_ids[\"play_per_game\"].diff(), :]\n",
    "first_mismatch"
   ]
  },
  {
   "cell_type": "code",
   "execution_count": null,
   "id": "109ca9d0-599b-4ed0-9806-71ceb1917cba",
   "metadata": {},
   "outputs": [],
   "source": [
    "# Something weird is going on with play id \n",
    "\n",
    "# HMM, play_per_game just skips? I wonder if that was like a pitching change or something\n",
    "\n",
    "game_events_df.loc[(game_events_df[\"play_id\"] >= first_mismatch.iloc[0][\"play_id\"] - 3) & (game_events_df[\"play_id\"] <= first_mismatch.iloc[0][\"play_id\"] + 3) , :]"
   ]
  },
  {
   "cell_type": "code",
   "execution_count": null,
   "id": "436dc91c-382b-4f08-ba38-7d89b92b8a66",
   "metadata": {},
   "outputs": [],
   "source": [
    "game_info_df.loc[(game_info_df[\"play_per_game\"] >= 125) & (game_info_df[\"play_per_game\"] <= 130), :]"
   ]
  },
  {
   "cell_type": "code",
   "execution_count": null,
   "id": "8261a8fe-9020-4267-b237-99d017a45156",
   "metadata": {},
   "outputs": [],
   "source": [
    "# 1903_02_TeamNE_TeamA2 is all weird!\n",
    "\n",
    "game_events_df.loc[(game_events_df[\"play_id\"] >= first_mismatch.iloc[1][\"play_id\"] - 3) & (game_events_df[\"play_id\"] <= first_mismatch.iloc[1][\"play_id\"] + 3) , :].drop_duplicates()"
   ]
  },
  {
   "cell_type": "code",
   "execution_count": null,
   "id": "7b221295-8dd0-45b3-91a4-d7f0e51cdda8",
   "metadata": {},
   "outputs": [],
   "source": [
    "game_info_df.loc[(game_info_df[\"play_per_game\"] >= 208) & (game_info_df[\"play_per_game\"] <= 215), :]"
   ]
  },
  {
   "cell_type": "markdown",
   "id": "0108e5a1-2e7f-40eb-8ad6-ddd81644e18b",
   "metadata": {},
   "source": [
    "### Count all of the games that have a mismatch, and report the first time they mismatch"
   ]
  },
  {
   "cell_type": "code",
   "execution_count": 15,
   "id": "897547e5-248f-41ea-9c32-336a8873d878",
   "metadata": {},
   "outputs": [],
   "source": [
    "mismatches = pd.DataFrame()\n",
    "\n",
    "for g in all_games:\n",
    "    this_game = Game(g)\n",
    "    \n",
    "    \n",
    "    mismatched_play_ids = this_game.game_events_df.loc[this_game.game_events_df[\"play_id\"] != this_game.game_events_df[\"play_per_game\"], :]\n",
    "    first_mismatch = mismatched_play_ids.loc[mismatched_play_ids[\"play_id\"].diff() != mismatched_play_ids[\"play_per_game\"].diff(), :]\n",
    "\n",
    "    game_events_mismatched = this_game.game_events_df.loc[(this_game.game_events_df[\"play_per_game\"].isin(first_mismatch[\"play_per_game\"]))  &\\\n",
    "                                                          (this_game.game_events_df[\"play_id\"].isin(first_mismatch[\"play_id\"]))\n",
    "                                                , [\"game_str\", \"play_id\", \"play_per_game\", \"event_code\"]]\n",
    "    \n",
    "    mismatches = pd.concat([mismatches, game_events_mismatched])\n",
    "    "
   ]
  },
  {
   "cell_type": "code",
   "execution_count": 24,
   "id": "e15e1c07-e86a-4050-8a1b-f7f9d49b55c4",
   "metadata": {},
   "outputs": [
    {
     "data": {
      "text/html": [
       "<div>\n",
       "<style scoped>\n",
       "    .dataframe tbody tr th:only-of-type {\n",
       "        vertical-align: middle;\n",
       "    }\n",
       "\n",
       "    .dataframe tbody tr th {\n",
       "        vertical-align: top;\n",
       "    }\n",
       "\n",
       "    .dataframe thead th {\n",
       "        text-align: right;\n",
       "    }\n",
       "</style>\n",
       "<table border=\"1\" class=\"dataframe\">\n",
       "  <thead>\n",
       "    <tr style=\"text-align: right;\">\n",
       "      <th></th>\n",
       "      <th>game_str</th>\n",
       "      <th>play_id</th>\n",
       "      <th>at_bat</th>\n",
       "      <th>play_per_game</th>\n",
       "      <th>timestamp</th>\n",
       "      <th>player_position</th>\n",
       "      <th>event_code</th>\n",
       "      <th>event</th>\n",
       "      <th>next_event_code</th>\n",
       "      <th>next_event</th>\n",
       "      <th>next_event_ts</th>\n",
       "    </tr>\n",
       "  </thead>\n",
       "  <tbody>\n",
       "    <tr>\n",
       "      <th>892</th>\n",
       "      <td>1902_31_TeamMF_TeamA2</td>\n",
       "      <td>258</td>\n",
       "      <td>63.0</td>\n",
       "      <td>259</td>\n",
       "      <td>8396146</td>\n",
       "      <td>1</td>\n",
       "      <td>1</td>\n",
       "      <td>pitch</td>\n",
       "      <td>2.0</td>\n",
       "      <td>ball acquired</td>\n",
       "      <td>8396696.0</td>\n",
       "    </tr>\n",
       "  </tbody>\n",
       "</table>\n",
       "</div>"
      ],
      "text/plain": [
       "                  game_str  play_id  at_bat  play_per_game  timestamp  \\\n",
       "892  1902_31_TeamMF_TeamA2      258    63.0            259    8396146   \n",
       "\n",
       "     player_position  event_code  event  next_event_code     next_event  \\\n",
       "892                1           1  pitch              2.0  ball acquired   \n",
       "\n",
       "     next_event_ts  \n",
       "892      8396696.0  "
      ]
     },
     "execution_count": 24,
     "metadata": {},
     "output_type": "execute_result"
    }
   ],
   "source": [
    "mismatched_play_ids.loc[(mismatched_play_ids[\"play_id\"].diff() != mismatched_play_ids[\"play_per_game\"].diff() ), :]"
   ]
  },
  {
   "cell_type": "code",
   "execution_count": 16,
   "id": "486b782e-33f9-4961-aacc-e5391dc05a61",
   "metadata": {},
   "outputs": [
    {
     "data": {
      "text/html": [
       "<div>\n",
       "<style scoped>\n",
       "    .dataframe tbody tr th:only-of-type {\n",
       "        vertical-align: middle;\n",
       "    }\n",
       "\n",
       "    .dataframe tbody tr th {\n",
       "        vertical-align: top;\n",
       "    }\n",
       "\n",
       "    .dataframe thead th {\n",
       "        text-align: right;\n",
       "    }\n",
       "</style>\n",
       "<table border=\"1\" class=\"dataframe\">\n",
       "  <thead>\n",
       "    <tr style=\"text-align: right;\">\n",
       "      <th></th>\n",
       "      <th>game_str</th>\n",
       "      <th>play_id</th>\n",
       "      <th>play_per_game</th>\n",
       "      <th>event_code</th>\n",
       "    </tr>\n",
       "  </thead>\n",
       "  <tbody>\n",
       "    <tr>\n",
       "      <th>853</th>\n",
       "      <td>1903_01_TeamNE_TeamA2</td>\n",
       "      <td>223</td>\n",
       "      <td>224</td>\n",
       "      <td>1</td>\n",
       "    </tr>\n",
       "    <tr>\n",
       "      <th>854</th>\n",
       "      <td>1903_01_TeamNE_TeamA2</td>\n",
       "      <td>223</td>\n",
       "      <td>224</td>\n",
       "      <td>4</td>\n",
       "    </tr>\n",
       "    <tr>\n",
       "      <th>855</th>\n",
       "      <td>1903_01_TeamNE_TeamA2</td>\n",
       "      <td>223</td>\n",
       "      <td>224</td>\n",
       "      <td>16</td>\n",
       "    </tr>\n",
       "    <tr>\n",
       "      <th>856</th>\n",
       "      <td>1903_01_TeamNE_TeamA2</td>\n",
       "      <td>223</td>\n",
       "      <td>224</td>\n",
       "      <td>16</td>\n",
       "    </tr>\n",
       "    <tr>\n",
       "      <th>857</th>\n",
       "      <td>1903_01_TeamNE_TeamA2</td>\n",
       "      <td>223</td>\n",
       "      <td>224</td>\n",
       "      <td>2</td>\n",
       "    </tr>\n",
       "    <tr>\n",
       "      <th>...</th>\n",
       "      <td>...</td>\n",
       "      <td>...</td>\n",
       "      <td>...</td>\n",
       "      <td>...</td>\n",
       "    </tr>\n",
       "    <tr>\n",
       "      <th>1012</th>\n",
       "      <td>1901_11_TeamLJ_TeamB</td>\n",
       "      <td>276</td>\n",
       "      <td>278</td>\n",
       "      <td>2</td>\n",
       "    </tr>\n",
       "    <tr>\n",
       "      <th>1013</th>\n",
       "      <td>1901_11_TeamLJ_TeamB</td>\n",
       "      <td>276</td>\n",
       "      <td>278</td>\n",
       "      <td>5</td>\n",
       "    </tr>\n",
       "    <tr>\n",
       "      <th>892</th>\n",
       "      <td>1902_31_TeamMF_TeamA2</td>\n",
       "      <td>258</td>\n",
       "      <td>259</td>\n",
       "      <td>1</td>\n",
       "    </tr>\n",
       "    <tr>\n",
       "      <th>894</th>\n",
       "      <td>1902_31_TeamMF_TeamA2</td>\n",
       "      <td>258</td>\n",
       "      <td>259</td>\n",
       "      <td>2</td>\n",
       "    </tr>\n",
       "    <tr>\n",
       "      <th>893</th>\n",
       "      <td>1902_31_TeamMF_TeamA2</td>\n",
       "      <td>258</td>\n",
       "      <td>259</td>\n",
       "      <td>5</td>\n",
       "    </tr>\n",
       "  </tbody>\n",
       "</table>\n",
       "<p>595 rows × 4 columns</p>\n",
       "</div>"
      ],
      "text/plain": [
       "                   game_str  play_id  play_per_game  event_code\n",
       "853   1903_01_TeamNE_TeamA2      223            224           1\n",
       "854   1903_01_TeamNE_TeamA2      223            224           4\n",
       "855   1903_01_TeamNE_TeamA2      223            224          16\n",
       "856   1903_01_TeamNE_TeamA2      223            224          16\n",
       "857   1903_01_TeamNE_TeamA2      223            224           2\n",
       "...                     ...      ...            ...         ...\n",
       "1012   1901_11_TeamLJ_TeamB      276            278           2\n",
       "1013   1901_11_TeamLJ_TeamB      276            278           5\n",
       "892   1902_31_TeamMF_TeamA2      258            259           1\n",
       "894   1902_31_TeamMF_TeamA2      258            259           2\n",
       "893   1902_31_TeamMF_TeamA2      258            259           5\n",
       "\n",
       "[595 rows x 4 columns]"
      ]
     },
     "execution_count": 16,
     "metadata": {},
     "output_type": "execute_result"
    }
   ],
   "source": [
    "mismatches"
   ]
  },
  {
   "cell_type": "code",
   "execution_count": 19,
   "id": "a003f445-fba2-41c0-9816-5ecfb0186e91",
   "metadata": {},
   "outputs": [
    {
     "data": {
      "text/html": [
       "<div>\n",
       "<style scoped>\n",
       "    .dataframe tbody tr th:only-of-type {\n",
       "        vertical-align: middle;\n",
       "    }\n",
       "\n",
       "    .dataframe tbody tr th {\n",
       "        vertical-align: top;\n",
       "    }\n",
       "\n",
       "    .dataframe thead th {\n",
       "        text-align: right;\n",
       "    }\n",
       "</style>\n",
       "<table border=\"1\" class=\"dataframe\">\n",
       "  <thead>\n",
       "    <tr style=\"text-align: right;\">\n",
       "      <th></th>\n",
       "      <th>game_str</th>\n",
       "      <th>play_id</th>\n",
       "      <th>play_per_game</th>\n",
       "    </tr>\n",
       "  </thead>\n",
       "  <tbody>\n",
       "    <tr>\n",
       "      <th>631</th>\n",
       "      <td>1900_01_TeamKJ_TeamB</td>\n",
       "      <td>178</td>\n",
       "      <td>179</td>\n",
       "    </tr>\n",
       "    <tr>\n",
       "      <th>574</th>\n",
       "      <td>1900_03_TeamKJ_TeamB</td>\n",
       "      <td>166</td>\n",
       "      <td>167</td>\n",
       "    </tr>\n",
       "    <tr>\n",
       "      <th>720</th>\n",
       "      <td>1900_05_TeamKK_TeamB</td>\n",
       "      <td>205</td>\n",
       "      <td>206</td>\n",
       "    </tr>\n",
       "    <tr>\n",
       "      <th>213</th>\n",
       "      <td>1900_09_TeamKK_TeamB</td>\n",
       "      <td>59</td>\n",
       "      <td>60</td>\n",
       "    </tr>\n",
       "    <tr>\n",
       "      <th>232</th>\n",
       "      <td>1900_09_TeamKK_TeamB</td>\n",
       "      <td>65</td>\n",
       "      <td>67</td>\n",
       "    </tr>\n",
       "    <tr>\n",
       "      <th>...</th>\n",
       "      <td>...</td>\n",
       "      <td>...</td>\n",
       "      <td>...</td>\n",
       "    </tr>\n",
       "    <tr>\n",
       "      <th>945</th>\n",
       "      <td>1903_31_TeamNB_TeamA1</td>\n",
       "      <td>248</td>\n",
       "      <td>253</td>\n",
       "    </tr>\n",
       "    <tr>\n",
       "      <th>101</th>\n",
       "      <td>1903_32_TeamNB_TeamA1</td>\n",
       "      <td>22</td>\n",
       "      <td>23</td>\n",
       "    </tr>\n",
       "    <tr>\n",
       "      <th>196</th>\n",
       "      <td>1903_32_TeamNB_TeamA1</td>\n",
       "      <td>46</td>\n",
       "      <td>48</td>\n",
       "    </tr>\n",
       "    <tr>\n",
       "      <th>326</th>\n",
       "      <td>1903_32_TeamNB_TeamA1</td>\n",
       "      <td>77</td>\n",
       "      <td>80</td>\n",
       "    </tr>\n",
       "    <tr>\n",
       "      <th>611</th>\n",
       "      <td>1903_32_TeamNB_TeamA1</td>\n",
       "      <td>146</td>\n",
       "      <td>150</td>\n",
       "    </tr>\n",
       "  </tbody>\n",
       "</table>\n",
       "<p>138 rows × 3 columns</p>\n",
       "</div>"
      ],
      "text/plain": [
       "                  game_str  play_id  play_per_game\n",
       "631   1900_01_TeamKJ_TeamB      178            179\n",
       "574   1900_03_TeamKJ_TeamB      166            167\n",
       "720   1900_05_TeamKK_TeamB      205            206\n",
       "213   1900_09_TeamKK_TeamB       59             60\n",
       "232   1900_09_TeamKK_TeamB       65             67\n",
       "..                     ...      ...            ...\n",
       "945  1903_31_TeamNB_TeamA1      248            253\n",
       "101  1903_32_TeamNB_TeamA1       22             23\n",
       "196  1903_32_TeamNB_TeamA1       46             48\n",
       "326  1903_32_TeamNB_TeamA1       77             80\n",
       "611  1903_32_TeamNB_TeamA1      146            150\n",
       "\n",
       "[138 rows x 3 columns]"
      ]
     },
     "execution_count": 19,
     "metadata": {},
     "output_type": "execute_result"
    }
   ],
   "source": [
    "mismatches[[\"game_str\", \"play_id\", \"play_per_game\"]].drop_duplicates().sort_values([\"game_str\", \"play_id\", \"play_per_game\"])"
   ]
  },
  {
   "cell_type": "code",
   "execution_count": 20,
   "id": "2a4a93c2-b03d-4c7a-98e8-36e5ca3d2a79",
   "metadata": {},
   "outputs": [],
   "source": [
    "mismatches[[\"game_str\", \"play_id\", \"play_per_game\"]].drop_duplicates().sort_values([\"game_str\", \"play_id\", \"play_per_game\"]).to_csv(\"data_debugging/play_id_play_per_game_mismatches.csv\", index = False)"
   ]
  },
  {
   "cell_type": "code",
   "execution_count": 18,
   "id": "e5f5e577-eddc-4b42-b905-5fc74045a551",
   "metadata": {},
   "outputs": [
    {
     "data": {
      "text/plain": [
       "(48, 1)"
      ]
     },
     "execution_count": 18,
     "metadata": {},
     "output_type": "execute_result"
    }
   ],
   "source": [
    "# yikes, half of them have this mismatch\n",
    "\n",
    "mismatches[[\"game_str\"]].drop_duplicates().shape"
   ]
  },
  {
   "cell_type": "code",
   "execution_count": 22,
   "id": "cf5ef767-4043-4672-9b45-a6d91acf2d5a",
   "metadata": {},
   "outputs": [
    {
     "data": {
      "text/plain": [
       "game_str             \n",
       "1901_03_TeamLG_TeamA3    60\n",
       "1903_25_TeamNK_TeamB     46\n",
       "1903_02_TeamNE_TeamA2    37\n",
       "1903_23_TeamNA_TeamA1    29\n",
       "1903_21_TeamNL_TeamB     28\n",
       "1903_30_TeamNB_TeamA1    26\n",
       "1903_19_TeamNL_TeamB     23\n",
       "1903_06_TeamND_TeamA2    21\n",
       "1901_18_TeamLH_TeamA3    20\n",
       "1903_04_TeamNC_TeamA1    19\n",
       "1903_20_TeamNL_TeamB     19\n",
       "1903_32_TeamNB_TeamA1    19\n",
       "1903_11_TeamNC_TeamA1    18\n",
       "1903_26_TeamNK_TeamB     16\n",
       "1903_31_TeamNB_TeamA1    15\n",
       "1901_17_TeamLH_TeamA3    14\n",
       "1901_06_TeamLI_TeamA3    14\n",
       "1903_16_TeamNI_TeamA3    12\n",
       "1903_10_TeamNJ_TeamB     12\n",
       "1901_07_TeamLK_TeamB     11\n",
       "1903_09_TeamNJ_TeamB      9\n",
       "1903_27_TeamNH_TeamA3     9\n",
       "1900_09_TeamKK_TeamB      9\n",
       "1901_09_TeamLK_TeamB      8\n",
       "1903_12_TeamNC_TeamA1     8\n",
       "1903_01_TeamNE_TeamA2     8\n",
       "1901_16_TeamLH_TeamA3     7\n",
       "1903_25_TeamNH_TeamA3     6\n",
       "1903_03_TeamNE_TeamA2     6\n",
       "1902_05_TeamML_TeamB      6\n",
       "1901_04_TeamLI_TeamA3     6\n",
       "1901_10_TeamLJ_TeamB      6\n",
       "1903_08_TeamNJ_TeamB      3\n",
       "1900_05_TeamKK_TeamB      3\n",
       "1901_08_TeamLK_TeamB      3\n",
       "1903_26_TeamNH_TeamA3     3\n",
       "1901_11_TeamLJ_TeamB      3\n",
       "1902_01_TeamMG_TeamA3     3\n",
       "1903_22_TeamNA_TeamA1     3\n",
       "1903_07_TeamND_TeamA2     3\n",
       "1902_06_TeamML_TeamB      3\n",
       "1902_07_TeamMJ_TeamB      3\n",
       "1902_17_TeamMB_TeamA1     3\n",
       "1903_18_TeamNI_TeamA3     3\n",
       "1902_25_TeamMH_TeamA3     3\n",
       "1902_31_TeamMF_TeamA2     3\n",
       "1900_03_TeamKJ_TeamB      3\n",
       "1900_01_TeamKJ_TeamB      3\n",
       "dtype: int64"
      ]
     },
     "execution_count": 22,
     "metadata": {},
     "output_type": "execute_result"
    }
   ],
   "source": [
    "# Which have the most?\n",
    "\n",
    "mismatches[[\"game_str\"]].value_counts()"
   ]
  },
  {
   "cell_type": "code",
   "execution_count": 3,
   "id": "b8a2b54e-b7d9-4c27-86f4-5d86dd52391f",
   "metadata": {},
   "outputs": [],
   "source": [
    "game_1903_25 = Game(\"1903_25_TeamNH_TeamA3\")"
   ]
  },
  {
   "cell_type": "code",
   "execution_count": 4,
   "id": "6e6320ac-f0ad-4c45-ab2f-5b3b34535c37",
   "metadata": {},
   "outputs": [
    {
     "data": {
      "text/html": [
       "<div>\n",
       "<style scoped>\n",
       "    .dataframe tbody tr th:only-of-type {\n",
       "        vertical-align: middle;\n",
       "    }\n",
       "\n",
       "    .dataframe tbody tr th {\n",
       "        vertical-align: top;\n",
       "    }\n",
       "\n",
       "    .dataframe thead th {\n",
       "        text-align: right;\n",
       "    }\n",
       "</style>\n",
       "<table border=\"1\" class=\"dataframe\">\n",
       "  <thead>\n",
       "    <tr style=\"text-align: right;\">\n",
       "      <th></th>\n",
       "      <th>game_str</th>\n",
       "      <th>play_id</th>\n",
       "      <th>at_bat</th>\n",
       "      <th>play_per_game</th>\n",
       "      <th>timestamp</th>\n",
       "      <th>player_position</th>\n",
       "      <th>event_code</th>\n",
       "      <th>event</th>\n",
       "      <th>next_event_code</th>\n",
       "      <th>next_event</th>\n",
       "      <th>next_event_ts</th>\n",
       "    </tr>\n",
       "  </thead>\n",
       "  <tbody>\n",
       "    <tr>\n",
       "      <th>838</th>\n",
       "      <td>1903_25_TeamNH_TeamA3</td>\n",
       "      <td>218</td>\n",
       "      <td>62</td>\n",
       "      <td>219</td>\n",
       "      <td>7762461</td>\n",
       "      <td>1</td>\n",
       "      <td>1</td>\n",
       "      <td>pitch</td>\n",
       "      <td>2.0</td>\n",
       "      <td>ball acquired</td>\n",
       "      <td>7763011.0</td>\n",
       "    </tr>\n",
       "    <tr>\n",
       "      <th>840</th>\n",
       "      <td>1903_25_TeamNH_TeamA3</td>\n",
       "      <td>218</td>\n",
       "      <td>62</td>\n",
       "      <td>219</td>\n",
       "      <td>7763011</td>\n",
       "      <td>2</td>\n",
       "      <td>2</td>\n",
       "      <td>ball acquired</td>\n",
       "      <td>5.0</td>\n",
       "      <td>end of play</td>\n",
       "      <td>7763011.0</td>\n",
       "    </tr>\n",
       "    <tr>\n",
       "      <th>839</th>\n",
       "      <td>1903_25_TeamNH_TeamA3</td>\n",
       "      <td>218</td>\n",
       "      <td>62</td>\n",
       "      <td>219</td>\n",
       "      <td>7763011</td>\n",
       "      <td>0</td>\n",
       "      <td>5</td>\n",
       "      <td>end of play</td>\n",
       "      <td>NaN</td>\n",
       "      <td>NaN</td>\n",
       "      <td>NaN</td>\n",
       "    </tr>\n",
       "  </tbody>\n",
       "</table>\n",
       "</div>"
      ],
      "text/plain": [
       "                  game_str  play_id  at_bat  play_per_game  timestamp  \\\n",
       "838  1903_25_TeamNH_TeamA3      218      62            219    7762461   \n",
       "840  1903_25_TeamNH_TeamA3      218      62            219    7763011   \n",
       "839  1903_25_TeamNH_TeamA3      218      62            219    7763011   \n",
       "\n",
       "     player_position  event_code          event  next_event_code  \\\n",
       "838                1           1          pitch              2.0   \n",
       "840                2           2  ball acquired              5.0   \n",
       "839                0           5    end of play              NaN   \n",
       "\n",
       "        next_event  next_event_ts  \n",
       "838  ball acquired      7763011.0  \n",
       "840    end of play      7763011.0  \n",
       "839            NaN            NaN  "
      ]
     },
     "execution_count": 4,
     "metadata": {},
     "output_type": "execute_result"
    }
   ],
   "source": [
    "game_1903_25.game_events_df.loc[game_1903_25.game_events_df[\"play_id\"] == 218, :]"
   ]
  },
  {
   "cell_type": "code",
   "execution_count": 5,
   "id": "e3b9b645-d95c-4f2f-acf7-8c6dd25b5645",
   "metadata": {},
   "outputs": [
    {
     "data": {
      "text/html": [
       "<div>\n",
       "<style scoped>\n",
       "    .dataframe tbody tr th:only-of-type {\n",
       "        vertical-align: middle;\n",
       "    }\n",
       "\n",
       "    .dataframe tbody tr th {\n",
       "        vertical-align: top;\n",
       "    }\n",
       "\n",
       "    .dataframe thead th {\n",
       "        text-align: right;\n",
       "    }\n",
       "</style>\n",
       "<table border=\"1\" class=\"dataframe\">\n",
       "  <thead>\n",
       "    <tr style=\"text-align: right;\">\n",
       "      <th></th>\n",
       "      <th>game_str</th>\n",
       "      <th>home_team</th>\n",
       "      <th>away_team</th>\n",
       "      <th>at_bat</th>\n",
       "      <th>play_per_game</th>\n",
       "      <th>inning</th>\n",
       "      <th>top_bottom_inning</th>\n",
       "      <th>pitcher</th>\n",
       "      <th>catcher</th>\n",
       "      <th>first_base</th>\n",
       "      <th>second_base</th>\n",
       "      <th>third_base</th>\n",
       "      <th>shortstop</th>\n",
       "      <th>left_field</th>\n",
       "      <th>center_field</th>\n",
       "      <th>right_field</th>\n",
       "      <th>batter</th>\n",
       "      <th>first_baserunner</th>\n",
       "      <th>second_baserunner</th>\n",
       "      <th>third_baserunner</th>\n",
       "    </tr>\n",
       "  </thead>\n",
       "  <tbody>\n",
       "    <tr>\n",
       "      <th>217</th>\n",
       "      <td>1903_25_TeamNH_TeamA3</td>\n",
       "      <td>TeamA3</td>\n",
       "      <td>TeamNH</td>\n",
       "      <td>61</td>\n",
       "      <td>217</td>\n",
       "      <td>8</td>\n",
       "      <td>Top</td>\n",
       "      <td>2592</td>\n",
       "      <td>2222</td>\n",
       "      <td>2480</td>\n",
       "      <td>2382</td>\n",
       "      <td>1784</td>\n",
       "      <td>1643</td>\n",
       "      <td>1258</td>\n",
       "      <td>2737</td>\n",
       "      <td>1617</td>\n",
       "      <td>8969</td>\n",
       "      <td>5592</td>\n",
       "      <td>0</td>\n",
       "      <td>0</td>\n",
       "    </tr>\n",
       "    <tr>\n",
       "      <th>218</th>\n",
       "      <td>1903_25_TeamNH_TeamA3</td>\n",
       "      <td>TeamA3</td>\n",
       "      <td>TeamNH</td>\n",
       "      <td>61</td>\n",
       "      <td>218</td>\n",
       "      <td>8</td>\n",
       "      <td>Top</td>\n",
       "      <td>2592</td>\n",
       "      <td>2222</td>\n",
       "      <td>2480</td>\n",
       "      <td>2382</td>\n",
       "      <td>1784</td>\n",
       "      <td>1643</td>\n",
       "      <td>1258</td>\n",
       "      <td>2737</td>\n",
       "      <td>1617</td>\n",
       "      <td>8969</td>\n",
       "      <td>5592</td>\n",
       "      <td>0</td>\n",
       "      <td>0</td>\n",
       "    </tr>\n",
       "    <tr>\n",
       "      <th>219</th>\n",
       "      <td>1903_25_TeamNH_TeamA3</td>\n",
       "      <td>TeamA3</td>\n",
       "      <td>TeamNH</td>\n",
       "      <td>62</td>\n",
       "      <td>219</td>\n",
       "      <td>8</td>\n",
       "      <td>Top</td>\n",
       "      <td>2592</td>\n",
       "      <td>2222</td>\n",
       "      <td>2480</td>\n",
       "      <td>2382</td>\n",
       "      <td>1784</td>\n",
       "      <td>1643</td>\n",
       "      <td>1258</td>\n",
       "      <td>2737</td>\n",
       "      <td>1617</td>\n",
       "      <td>9618</td>\n",
       "      <td>5592</td>\n",
       "      <td>0</td>\n",
       "      <td>0</td>\n",
       "    </tr>\n",
       "    <tr>\n",
       "      <th>220</th>\n",
       "      <td>1903_25_TeamNH_TeamA3</td>\n",
       "      <td>TeamA3</td>\n",
       "      <td>TeamNH</td>\n",
       "      <td>62</td>\n",
       "      <td>220</td>\n",
       "      <td>8</td>\n",
       "      <td>Top</td>\n",
       "      <td>2592</td>\n",
       "      <td>2222</td>\n",
       "      <td>2480</td>\n",
       "      <td>2382</td>\n",
       "      <td>1784</td>\n",
       "      <td>1643</td>\n",
       "      <td>1258</td>\n",
       "      <td>2737</td>\n",
       "      <td>1617</td>\n",
       "      <td>9618</td>\n",
       "      <td>5592</td>\n",
       "      <td>0</td>\n",
       "      <td>0</td>\n",
       "    </tr>\n",
       "    <tr>\n",
       "      <th>221</th>\n",
       "      <td>1903_25_TeamNH_TeamA3</td>\n",
       "      <td>TeamA3</td>\n",
       "      <td>TeamNH</td>\n",
       "      <td>62</td>\n",
       "      <td>221</td>\n",
       "      <td>8</td>\n",
       "      <td>Top</td>\n",
       "      <td>2592</td>\n",
       "      <td>2222</td>\n",
       "      <td>2480</td>\n",
       "      <td>2382</td>\n",
       "      <td>1784</td>\n",
       "      <td>1643</td>\n",
       "      <td>1258</td>\n",
       "      <td>2737</td>\n",
       "      <td>1617</td>\n",
       "      <td>9618</td>\n",
       "      <td>5592</td>\n",
       "      <td>0</td>\n",
       "      <td>0</td>\n",
       "    </tr>\n",
       "  </tbody>\n",
       "</table>\n",
       "</div>"
      ],
      "text/plain": [
       "                  game_str home_team away_team  at_bat  play_per_game  inning  \\\n",
       "217  1903_25_TeamNH_TeamA3    TeamA3    TeamNH      61            217       8   \n",
       "218  1903_25_TeamNH_TeamA3    TeamA3    TeamNH      61            218       8   \n",
       "219  1903_25_TeamNH_TeamA3    TeamA3    TeamNH      62            219       8   \n",
       "220  1903_25_TeamNH_TeamA3    TeamA3    TeamNH      62            220       8   \n",
       "221  1903_25_TeamNH_TeamA3    TeamA3    TeamNH      62            221       8   \n",
       "\n",
       "    top_bottom_inning  pitcher  catcher  first_base  second_base  third_base  \\\n",
       "217               Top     2592     2222        2480         2382        1784   \n",
       "218               Top     2592     2222        2480         2382        1784   \n",
       "219               Top     2592     2222        2480         2382        1784   \n",
       "220               Top     2592     2222        2480         2382        1784   \n",
       "221               Top     2592     2222        2480         2382        1784   \n",
       "\n",
       "     shortstop  left_field  center_field  right_field  batter  \\\n",
       "217       1643        1258          2737         1617    8969   \n",
       "218       1643        1258          2737         1617    8969   \n",
       "219       1643        1258          2737         1617    9618   \n",
       "220       1643        1258          2737         1617    9618   \n",
       "221       1643        1258          2737         1617    9618   \n",
       "\n",
       "     first_baserunner  second_baserunner  third_baserunner  \n",
       "217              5592                  0                 0  \n",
       "218              5592                  0                 0  \n",
       "219              5592                  0                 0  \n",
       "220              5592                  0                 0  \n",
       "221              5592                  0                 0  "
      ]
     },
     "execution_count": 5,
     "metadata": {},
     "output_type": "execute_result"
    }
   ],
   "source": [
    "game_1903_25.game_info_df.loc[game_1903_25.game_info_df[\"play_per_game\"].isin([217, 218, 219, 220, 221]), :]"
   ]
  },
  {
   "cell_type": "code",
   "execution_count": 6,
   "id": "c4f84572-f435-492d-bff7-ec779245ac3f",
   "metadata": {},
   "outputs": [],
   "source": [
    "game_1903_23 = Game(\"1903_23_TeamNA_TeamA1\")"
   ]
  },
  {
   "cell_type": "code",
   "execution_count": 7,
   "id": "b945c397-94d5-4b88-9cf8-8e8f970d024f",
   "metadata": {},
   "outputs": [
    {
     "data": {
      "text/html": [
       "<div>\n",
       "<style scoped>\n",
       "    .dataframe tbody tr th:only-of-type {\n",
       "        vertical-align: middle;\n",
       "    }\n",
       "\n",
       "    .dataframe tbody tr th {\n",
       "        vertical-align: top;\n",
       "    }\n",
       "\n",
       "    .dataframe thead th {\n",
       "        text-align: right;\n",
       "    }\n",
       "</style>\n",
       "<table border=\"1\" class=\"dataframe\">\n",
       "  <thead>\n",
       "    <tr style=\"text-align: right;\">\n",
       "      <th></th>\n",
       "      <th>game_str</th>\n",
       "      <th>play_id</th>\n",
       "      <th>at_bat</th>\n",
       "      <th>play_per_game</th>\n",
       "      <th>timestamp</th>\n",
       "      <th>player_position</th>\n",
       "      <th>event_code</th>\n",
       "      <th>event</th>\n",
       "      <th>next_event_code</th>\n",
       "      <th>next_event</th>\n",
       "      <th>next_event_ts</th>\n",
       "    </tr>\n",
       "  </thead>\n",
       "  <tbody>\n",
       "    <tr>\n",
       "      <th>144</th>\n",
       "      <td>1903_25_TeamNH_TeamA3</td>\n",
       "      <td>36</td>\n",
       "      <td>10</td>\n",
       "      <td>36</td>\n",
       "      <td>1082861</td>\n",
       "      <td>1</td>\n",
       "      <td>1</td>\n",
       "      <td>pitch</td>\n",
       "      <td>2.0</td>\n",
       "      <td>ball acquired</td>\n",
       "      <td>1083411.0</td>\n",
       "    </tr>\n",
       "    <tr>\n",
       "      <th>145</th>\n",
       "      <td>1903_25_TeamNH_TeamA3</td>\n",
       "      <td>36</td>\n",
       "      <td>10</td>\n",
       "      <td>36</td>\n",
       "      <td>1083411</td>\n",
       "      <td>2</td>\n",
       "      <td>2</td>\n",
       "      <td>ball acquired</td>\n",
       "      <td>5.0</td>\n",
       "      <td>end of play</td>\n",
       "      <td>1083411.0</td>\n",
       "    </tr>\n",
       "    <tr>\n",
       "      <th>146</th>\n",
       "      <td>1903_25_TeamNH_TeamA3</td>\n",
       "      <td>36</td>\n",
       "      <td>10</td>\n",
       "      <td>36</td>\n",
       "      <td>1083411</td>\n",
       "      <td>0</td>\n",
       "      <td>5</td>\n",
       "      <td>end of play</td>\n",
       "      <td>NaN</td>\n",
       "      <td>NaN</td>\n",
       "      <td>NaN</td>\n",
       "    </tr>\n",
       "    <tr>\n",
       "      <th>147</th>\n",
       "      <td>1903_25_TeamNH_TeamA3</td>\n",
       "      <td>37</td>\n",
       "      <td>10</td>\n",
       "      <td>37</td>\n",
       "      <td>1120961</td>\n",
       "      <td>1</td>\n",
       "      <td>1</td>\n",
       "      <td>pitch</td>\n",
       "      <td>2.0</td>\n",
       "      <td>ball acquired</td>\n",
       "      <td>1121461.0</td>\n",
       "    </tr>\n",
       "    <tr>\n",
       "      <th>148</th>\n",
       "      <td>1903_25_TeamNH_TeamA3</td>\n",
       "      <td>37</td>\n",
       "      <td>10</td>\n",
       "      <td>37</td>\n",
       "      <td>1121461</td>\n",
       "      <td>2</td>\n",
       "      <td>2</td>\n",
       "      <td>ball acquired</td>\n",
       "      <td>5.0</td>\n",
       "      <td>end of play</td>\n",
       "      <td>1121461.0</td>\n",
       "    </tr>\n",
       "    <tr>\n",
       "      <th>149</th>\n",
       "      <td>1903_25_TeamNH_TeamA3</td>\n",
       "      <td>37</td>\n",
       "      <td>10</td>\n",
       "      <td>37</td>\n",
       "      <td>1121461</td>\n",
       "      <td>0</td>\n",
       "      <td>5</td>\n",
       "      <td>end of play</td>\n",
       "      <td>NaN</td>\n",
       "      <td>NaN</td>\n",
       "      <td>NaN</td>\n",
       "    </tr>\n",
       "    <tr>\n",
       "      <th>150</th>\n",
       "      <td>1903_25_TeamNH_TeamA3</td>\n",
       "      <td>38</td>\n",
       "      <td>10</td>\n",
       "      <td>39</td>\n",
       "      <td>1164711</td>\n",
       "      <td>1</td>\n",
       "      <td>1</td>\n",
       "      <td>pitch</td>\n",
       "      <td>2.0</td>\n",
       "      <td>ball acquired</td>\n",
       "      <td>1165161.0</td>\n",
       "    </tr>\n",
       "    <tr>\n",
       "      <th>152</th>\n",
       "      <td>1903_25_TeamNH_TeamA3</td>\n",
       "      <td>38</td>\n",
       "      <td>10</td>\n",
       "      <td>39</td>\n",
       "      <td>1165161</td>\n",
       "      <td>2</td>\n",
       "      <td>2</td>\n",
       "      <td>ball acquired</td>\n",
       "      <td>5.0</td>\n",
       "      <td>end of play</td>\n",
       "      <td>1165161.0</td>\n",
       "    </tr>\n",
       "    <tr>\n",
       "      <th>151</th>\n",
       "      <td>1903_25_TeamNH_TeamA3</td>\n",
       "      <td>38</td>\n",
       "      <td>10</td>\n",
       "      <td>39</td>\n",
       "      <td>1165161</td>\n",
       "      <td>0</td>\n",
       "      <td>5</td>\n",
       "      <td>end of play</td>\n",
       "      <td>NaN</td>\n",
       "      <td>NaN</td>\n",
       "      <td>NaN</td>\n",
       "    </tr>\n",
       "    <tr>\n",
       "      <th>153</th>\n",
       "      <td>1903_25_TeamNH_TeamA3</td>\n",
       "      <td>39</td>\n",
       "      <td>10</td>\n",
       "      <td>40</td>\n",
       "      <td>1186211</td>\n",
       "      <td>1</td>\n",
       "      <td>1</td>\n",
       "      <td>pitch</td>\n",
       "      <td>4.0</td>\n",
       "      <td>ball hit into play</td>\n",
       "      <td>1186661.0</td>\n",
       "    </tr>\n",
       "    <tr>\n",
       "      <th>154</th>\n",
       "      <td>1903_25_TeamNH_TeamA3</td>\n",
       "      <td>39</td>\n",
       "      <td>10</td>\n",
       "      <td>40</td>\n",
       "      <td>1186661</td>\n",
       "      <td>10</td>\n",
       "      <td>4</td>\n",
       "      <td>ball hit into play</td>\n",
       "      <td>16.0</td>\n",
       "      <td>ball bounce</td>\n",
       "      <td>1186711.0</td>\n",
       "    </tr>\n",
       "    <tr>\n",
       "      <th>155</th>\n",
       "      <td>1903_25_TeamNH_TeamA3</td>\n",
       "      <td>39</td>\n",
       "      <td>10</td>\n",
       "      <td>40</td>\n",
       "      <td>1186711</td>\n",
       "      <td>255</td>\n",
       "      <td>16</td>\n",
       "      <td>ball bounce</td>\n",
       "      <td>16.0</td>\n",
       "      <td>ball bounce</td>\n",
       "      <td>1188111.0</td>\n",
       "    </tr>\n",
       "    <tr>\n",
       "      <th>156</th>\n",
       "      <td>1903_25_TeamNH_TeamA3</td>\n",
       "      <td>39</td>\n",
       "      <td>10</td>\n",
       "      <td>40</td>\n",
       "      <td>1188111</td>\n",
       "      <td>255</td>\n",
       "      <td>16</td>\n",
       "      <td>ball bounce</td>\n",
       "      <td>2.0</td>\n",
       "      <td>ball acquired</td>\n",
       "      <td>1188561.0</td>\n",
       "    </tr>\n",
       "    <tr>\n",
       "      <th>157</th>\n",
       "      <td>1903_25_TeamNH_TeamA3</td>\n",
       "      <td>39</td>\n",
       "      <td>10</td>\n",
       "      <td>40</td>\n",
       "      <td>1188561</td>\n",
       "      <td>4</td>\n",
       "      <td>2</td>\n",
       "      <td>ball acquired</td>\n",
       "      <td>3.0</td>\n",
       "      <td>throw (ball-in-play)</td>\n",
       "      <td>1189711.0</td>\n",
       "    </tr>\n",
       "    <tr>\n",
       "      <th>158</th>\n",
       "      <td>1903_25_TeamNH_TeamA3</td>\n",
       "      <td>39</td>\n",
       "      <td>10</td>\n",
       "      <td>40</td>\n",
       "      <td>1189711</td>\n",
       "      <td>4</td>\n",
       "      <td>3</td>\n",
       "      <td>throw (ball-in-play)</td>\n",
       "      <td>2.0</td>\n",
       "      <td>ball acquired</td>\n",
       "      <td>1190661.0</td>\n",
       "    </tr>\n",
       "    <tr>\n",
       "      <th>159</th>\n",
       "      <td>1903_25_TeamNH_TeamA3</td>\n",
       "      <td>39</td>\n",
       "      <td>10</td>\n",
       "      <td>40</td>\n",
       "      <td>1190661</td>\n",
       "      <td>3</td>\n",
       "      <td>2</td>\n",
       "      <td>ball acquired</td>\n",
       "      <td>5.0</td>\n",
       "      <td>end of play</td>\n",
       "      <td>1190661.0</td>\n",
       "    </tr>\n",
       "    <tr>\n",
       "      <th>160</th>\n",
       "      <td>1903_25_TeamNH_TeamA3</td>\n",
       "      <td>39</td>\n",
       "      <td>10</td>\n",
       "      <td>40</td>\n",
       "      <td>1190661</td>\n",
       "      <td>0</td>\n",
       "      <td>5</td>\n",
       "      <td>end of play</td>\n",
       "      <td>NaN</td>\n",
       "      <td>NaN</td>\n",
       "      <td>NaN</td>\n",
       "    </tr>\n",
       "    <tr>\n",
       "      <th>161</th>\n",
       "      <td>1903_25_TeamNH_TeamA3</td>\n",
       "      <td>40</td>\n",
       "      <td>11</td>\n",
       "      <td>41</td>\n",
       "      <td>1340911</td>\n",
       "      <td>1</td>\n",
       "      <td>1</td>\n",
       "      <td>pitch</td>\n",
       "      <td>2.0</td>\n",
       "      <td>ball acquired</td>\n",
       "      <td>1341411.0</td>\n",
       "    </tr>\n",
       "    <tr>\n",
       "      <th>162</th>\n",
       "      <td>1903_25_TeamNH_TeamA3</td>\n",
       "      <td>40</td>\n",
       "      <td>11</td>\n",
       "      <td>41</td>\n",
       "      <td>1341411</td>\n",
       "      <td>2</td>\n",
       "      <td>2</td>\n",
       "      <td>ball acquired</td>\n",
       "      <td>5.0</td>\n",
       "      <td>end of play</td>\n",
       "      <td>1341411.0</td>\n",
       "    </tr>\n",
       "    <tr>\n",
       "      <th>163</th>\n",
       "      <td>1903_25_TeamNH_TeamA3</td>\n",
       "      <td>40</td>\n",
       "      <td>11</td>\n",
       "      <td>41</td>\n",
       "      <td>1341411</td>\n",
       "      <td>0</td>\n",
       "      <td>5</td>\n",
       "      <td>end of play</td>\n",
       "      <td>NaN</td>\n",
       "      <td>NaN</td>\n",
       "      <td>NaN</td>\n",
       "    </tr>\n",
       "  </tbody>\n",
       "</table>\n",
       "</div>"
      ],
      "text/plain": [
       "                  game_str  play_id  at_bat  play_per_game  timestamp  \\\n",
       "144  1903_25_TeamNH_TeamA3       36      10             36    1082861   \n",
       "145  1903_25_TeamNH_TeamA3       36      10             36    1083411   \n",
       "146  1903_25_TeamNH_TeamA3       36      10             36    1083411   \n",
       "147  1903_25_TeamNH_TeamA3       37      10             37    1120961   \n",
       "148  1903_25_TeamNH_TeamA3       37      10             37    1121461   \n",
       "149  1903_25_TeamNH_TeamA3       37      10             37    1121461   \n",
       "150  1903_25_TeamNH_TeamA3       38      10             39    1164711   \n",
       "152  1903_25_TeamNH_TeamA3       38      10             39    1165161   \n",
       "151  1903_25_TeamNH_TeamA3       38      10             39    1165161   \n",
       "153  1903_25_TeamNH_TeamA3       39      10             40    1186211   \n",
       "154  1903_25_TeamNH_TeamA3       39      10             40    1186661   \n",
       "155  1903_25_TeamNH_TeamA3       39      10             40    1186711   \n",
       "156  1903_25_TeamNH_TeamA3       39      10             40    1188111   \n",
       "157  1903_25_TeamNH_TeamA3       39      10             40    1188561   \n",
       "158  1903_25_TeamNH_TeamA3       39      10             40    1189711   \n",
       "159  1903_25_TeamNH_TeamA3       39      10             40    1190661   \n",
       "160  1903_25_TeamNH_TeamA3       39      10             40    1190661   \n",
       "161  1903_25_TeamNH_TeamA3       40      11             41    1340911   \n",
       "162  1903_25_TeamNH_TeamA3       40      11             41    1341411   \n",
       "163  1903_25_TeamNH_TeamA3       40      11             41    1341411   \n",
       "\n",
       "     player_position  event_code                 event  next_event_code  \\\n",
       "144                1           1                 pitch              2.0   \n",
       "145                2           2         ball acquired              5.0   \n",
       "146                0           5           end of play              NaN   \n",
       "147                1           1                 pitch              2.0   \n",
       "148                2           2         ball acquired              5.0   \n",
       "149                0           5           end of play              NaN   \n",
       "150                1           1                 pitch              2.0   \n",
       "152                2           2         ball acquired              5.0   \n",
       "151                0           5           end of play              NaN   \n",
       "153                1           1                 pitch              4.0   \n",
       "154               10           4    ball hit into play             16.0   \n",
       "155              255          16           ball bounce             16.0   \n",
       "156              255          16           ball bounce              2.0   \n",
       "157                4           2         ball acquired              3.0   \n",
       "158                4           3  throw (ball-in-play)              2.0   \n",
       "159                3           2         ball acquired              5.0   \n",
       "160                0           5           end of play              NaN   \n",
       "161                1           1                 pitch              2.0   \n",
       "162                2           2         ball acquired              5.0   \n",
       "163                0           5           end of play              NaN   \n",
       "\n",
       "               next_event  next_event_ts  \n",
       "144         ball acquired      1083411.0  \n",
       "145           end of play      1083411.0  \n",
       "146                   NaN            NaN  \n",
       "147         ball acquired      1121461.0  \n",
       "148           end of play      1121461.0  \n",
       "149                   NaN            NaN  \n",
       "150         ball acquired      1165161.0  \n",
       "152           end of play      1165161.0  \n",
       "151                   NaN            NaN  \n",
       "153    ball hit into play      1186661.0  \n",
       "154           ball bounce      1186711.0  \n",
       "155           ball bounce      1188111.0  \n",
       "156         ball acquired      1188561.0  \n",
       "157  throw (ball-in-play)      1189711.0  \n",
       "158         ball acquired      1190661.0  \n",
       "159           end of play      1190661.0  \n",
       "160                   NaN            NaN  \n",
       "161         ball acquired      1341411.0  \n",
       "162           end of play      1341411.0  \n",
       "163                   NaN            NaN  "
      ]
     },
     "execution_count": 7,
     "metadata": {},
     "output_type": "execute_result"
    }
   ],
   "source": [
    "game_1903_25.game_events_df.loc[game_1903_25.game_events_df[\"play_id\"].isin([36, 37, 38, 39, 40]), :]"
   ]
  },
  {
   "cell_type": "code",
   "execution_count": 8,
   "id": "e0d787e1-7ac1-4745-948e-28cd8feea303",
   "metadata": {},
   "outputs": [
    {
     "data": {
      "text/html": [
       "<div>\n",
       "<style scoped>\n",
       "    .dataframe tbody tr th:only-of-type {\n",
       "        vertical-align: middle;\n",
       "    }\n",
       "\n",
       "    .dataframe tbody tr th {\n",
       "        vertical-align: top;\n",
       "    }\n",
       "\n",
       "    .dataframe thead th {\n",
       "        text-align: right;\n",
       "    }\n",
       "</style>\n",
       "<table border=\"1\" class=\"dataframe\">\n",
       "  <thead>\n",
       "    <tr style=\"text-align: right;\">\n",
       "      <th></th>\n",
       "      <th>game_str</th>\n",
       "      <th>play_id</th>\n",
       "      <th>at_bat</th>\n",
       "      <th>play_per_game</th>\n",
       "      <th>timestamp</th>\n",
       "      <th>player_position</th>\n",
       "      <th>event_code</th>\n",
       "      <th>event</th>\n",
       "      <th>next_event_code</th>\n",
       "      <th>next_event</th>\n",
       "      <th>next_event_ts</th>\n",
       "    </tr>\n",
       "  </thead>\n",
       "  <tbody>\n",
       "    <tr>\n",
       "      <th>1029</th>\n",
       "      <td>1903_25_TeamNH_TeamA3</td>\n",
       "      <td>268</td>\n",
       "      <td>75</td>\n",
       "      <td>269</td>\n",
       "      <td>9810711</td>\n",
       "      <td>1</td>\n",
       "      <td>1</td>\n",
       "      <td>pitch</td>\n",
       "      <td>2.0</td>\n",
       "      <td>ball acquired</td>\n",
       "      <td>9811211.0</td>\n",
       "    </tr>\n",
       "    <tr>\n",
       "      <th>1030</th>\n",
       "      <td>1903_25_TeamNH_TeamA3</td>\n",
       "      <td>268</td>\n",
       "      <td>75</td>\n",
       "      <td>269</td>\n",
       "      <td>9811211</td>\n",
       "      <td>2</td>\n",
       "      <td>2</td>\n",
       "      <td>ball acquired</td>\n",
       "      <td>5.0</td>\n",
       "      <td>end of play</td>\n",
       "      <td>9811211.0</td>\n",
       "    </tr>\n",
       "    <tr>\n",
       "      <th>1031</th>\n",
       "      <td>1903_25_TeamNH_TeamA3</td>\n",
       "      <td>268</td>\n",
       "      <td>75</td>\n",
       "      <td>269</td>\n",
       "      <td>9811211</td>\n",
       "      <td>0</td>\n",
       "      <td>5</td>\n",
       "      <td>end of play</td>\n",
       "      <td>NaN</td>\n",
       "      <td>NaN</td>\n",
       "      <td>NaN</td>\n",
       "    </tr>\n",
       "    <tr>\n",
       "      <th>1032</th>\n",
       "      <td>1903_25_TeamNH_TeamA3</td>\n",
       "      <td>269</td>\n",
       "      <td>75</td>\n",
       "      <td>271</td>\n",
       "      <td>9858961</td>\n",
       "      <td>1</td>\n",
       "      <td>1</td>\n",
       "      <td>pitch</td>\n",
       "      <td>4.0</td>\n",
       "      <td>ball hit into play</td>\n",
       "      <td>9859361.0</td>\n",
       "    </tr>\n",
       "    <tr>\n",
       "      <th>1033</th>\n",
       "      <td>1903_25_TeamNH_TeamA3</td>\n",
       "      <td>269</td>\n",
       "      <td>75</td>\n",
       "      <td>271</td>\n",
       "      <td>9859361</td>\n",
       "      <td>10</td>\n",
       "      <td>4</td>\n",
       "      <td>ball hit into play</td>\n",
       "      <td>5.0</td>\n",
       "      <td>end of play</td>\n",
       "      <td>9859461.0</td>\n",
       "    </tr>\n",
       "    <tr>\n",
       "      <th>1034</th>\n",
       "      <td>1903_25_TeamNH_TeamA3</td>\n",
       "      <td>269</td>\n",
       "      <td>75</td>\n",
       "      <td>271</td>\n",
       "      <td>9859461</td>\n",
       "      <td>0</td>\n",
       "      <td>5</td>\n",
       "      <td>end of play</td>\n",
       "      <td>NaN</td>\n",
       "      <td>NaN</td>\n",
       "      <td>NaN</td>\n",
       "    </tr>\n",
       "    <tr>\n",
       "      <th>1035</th>\n",
       "      <td>1903_25_TeamNH_TeamA3</td>\n",
       "      <td>270</td>\n",
       "      <td>75</td>\n",
       "      <td>272</td>\n",
       "      <td>9885511</td>\n",
       "      <td>1</td>\n",
       "      <td>1</td>\n",
       "      <td>pitch</td>\n",
       "      <td>4.0</td>\n",
       "      <td>ball hit into play</td>\n",
       "      <td>9885911.0</td>\n",
       "    </tr>\n",
       "    <tr>\n",
       "      <th>1036</th>\n",
       "      <td>1903_25_TeamNH_TeamA3</td>\n",
       "      <td>270</td>\n",
       "      <td>75</td>\n",
       "      <td>272</td>\n",
       "      <td>9885911</td>\n",
       "      <td>10</td>\n",
       "      <td>4</td>\n",
       "      <td>ball hit into play</td>\n",
       "      <td>5.0</td>\n",
       "      <td>end of play</td>\n",
       "      <td>9885961.0</td>\n",
       "    </tr>\n",
       "    <tr>\n",
       "      <th>1037</th>\n",
       "      <td>1903_25_TeamNH_TeamA3</td>\n",
       "      <td>270</td>\n",
       "      <td>75</td>\n",
       "      <td>272</td>\n",
       "      <td>9885961</td>\n",
       "      <td>0</td>\n",
       "      <td>5</td>\n",
       "      <td>end of play</td>\n",
       "      <td>NaN</td>\n",
       "      <td>NaN</td>\n",
       "      <td>NaN</td>\n",
       "    </tr>\n",
       "    <tr>\n",
       "      <th>1038</th>\n",
       "      <td>1903_25_TeamNH_TeamA3</td>\n",
       "      <td>271</td>\n",
       "      <td>75</td>\n",
       "      <td>273</td>\n",
       "      <td>9910311</td>\n",
       "      <td>1</td>\n",
       "      <td>1</td>\n",
       "      <td>pitch</td>\n",
       "      <td>4.0</td>\n",
       "      <td>ball hit into play</td>\n",
       "      <td>9910761.0</td>\n",
       "    </tr>\n",
       "    <tr>\n",
       "      <th>1039</th>\n",
       "      <td>1903_25_TeamNH_TeamA3</td>\n",
       "      <td>271</td>\n",
       "      <td>75</td>\n",
       "      <td>273</td>\n",
       "      <td>9910761</td>\n",
       "      <td>10</td>\n",
       "      <td>4</td>\n",
       "      <td>ball hit into play</td>\n",
       "      <td>5.0</td>\n",
       "      <td>end of play</td>\n",
       "      <td>9910811.0</td>\n",
       "    </tr>\n",
       "    <tr>\n",
       "      <th>1040</th>\n",
       "      <td>1903_25_TeamNH_TeamA3</td>\n",
       "      <td>271</td>\n",
       "      <td>75</td>\n",
       "      <td>273</td>\n",
       "      <td>9910811</td>\n",
       "      <td>0</td>\n",
       "      <td>5</td>\n",
       "      <td>end of play</td>\n",
       "      <td>NaN</td>\n",
       "      <td>NaN</td>\n",
       "      <td>NaN</td>\n",
       "    </tr>\n",
       "  </tbody>\n",
       "</table>\n",
       "</div>"
      ],
      "text/plain": [
       "                   game_str  play_id  at_bat  play_per_game  timestamp  \\\n",
       "1029  1903_25_TeamNH_TeamA3      268      75            269    9810711   \n",
       "1030  1903_25_TeamNH_TeamA3      268      75            269    9811211   \n",
       "1031  1903_25_TeamNH_TeamA3      268      75            269    9811211   \n",
       "1032  1903_25_TeamNH_TeamA3      269      75            271    9858961   \n",
       "1033  1903_25_TeamNH_TeamA3      269      75            271    9859361   \n",
       "1034  1903_25_TeamNH_TeamA3      269      75            271    9859461   \n",
       "1035  1903_25_TeamNH_TeamA3      270      75            272    9885511   \n",
       "1036  1903_25_TeamNH_TeamA3      270      75            272    9885911   \n",
       "1037  1903_25_TeamNH_TeamA3      270      75            272    9885961   \n",
       "1038  1903_25_TeamNH_TeamA3      271      75            273    9910311   \n",
       "1039  1903_25_TeamNH_TeamA3      271      75            273    9910761   \n",
       "1040  1903_25_TeamNH_TeamA3      271      75            273    9910811   \n",
       "\n",
       "      player_position  event_code               event  next_event_code  \\\n",
       "1029                1           1               pitch              2.0   \n",
       "1030                2           2       ball acquired              5.0   \n",
       "1031                0           5         end of play              NaN   \n",
       "1032                1           1               pitch              4.0   \n",
       "1033               10           4  ball hit into play              5.0   \n",
       "1034                0           5         end of play              NaN   \n",
       "1035                1           1               pitch              4.0   \n",
       "1036               10           4  ball hit into play              5.0   \n",
       "1037                0           5         end of play              NaN   \n",
       "1038                1           1               pitch              4.0   \n",
       "1039               10           4  ball hit into play              5.0   \n",
       "1040                0           5         end of play              NaN   \n",
       "\n",
       "              next_event  next_event_ts  \n",
       "1029       ball acquired      9811211.0  \n",
       "1030         end of play      9811211.0  \n",
       "1031                 NaN            NaN  \n",
       "1032  ball hit into play      9859361.0  \n",
       "1033         end of play      9859461.0  \n",
       "1034                 NaN            NaN  \n",
       "1035  ball hit into play      9885911.0  \n",
       "1036         end of play      9885961.0  \n",
       "1037                 NaN            NaN  \n",
       "1038  ball hit into play      9910761.0  \n",
       "1039         end of play      9910811.0  \n",
       "1040                 NaN            NaN  "
      ]
     },
     "execution_count": 8,
     "metadata": {},
     "output_type": "execute_result"
    }
   ],
   "source": [
    "game_1903_25.game_events_df.loc[game_1903_25.game_events_df[\"play_id\"].isin([268, 269, 270, 271]), :]"
   ]
  },
  {
   "cell_type": "code",
   "execution_count": 9,
   "id": "aba114b5-a320-4aed-ae46-820d765786cd",
   "metadata": {},
   "outputs": [],
   "source": [
    "mismatched_play_ids = game_1903_25.game_events_df.loc[game_1903_25.game_events_df[\"play_id\"] != game_1903_25.game_events_df[\"play_per_game\"], :]\n"
   ]
  },
  {
   "cell_type": "code",
   "execution_count": null,
   "id": "13eba5ae-d2bc-42d4-92b8-010b7b9458d9",
   "metadata": {},
   "outputs": [],
   "source": [
    "first_mismatch = mismatched_play_ids.loc[mismatched_play_ids[\"play_id\"].diff() != mismatched_play_ids[\"play_per_game\"].diff(), :]\n",
    "\n",
    "first_mismatch"
   ]
  },
  {
   "cell_type": "code",
   "execution_count": null,
   "id": "1d41c928-01d6-4a18-a9f5-e571f20a2ebd",
   "metadata": {},
   "outputs": [],
   "source": [
    "game_events_mismatched = game_1903_25.game_events_df.loc[(game_1903_25.game_events_df[\"play_per_game\"].isin(first_mismatch[\"play_per_game\"]))  &\\\n",
    "                                                          (game_1903_25.game_events_df[\"play_id\"].isin(first_mismatch[\"play_id\"]))\n",
    "                                                , [\"game_str\", \"play_id\", \"play_per_game\", \"event_code\"]]"
   ]
  },
  {
   "cell_type": "code",
   "execution_count": null,
   "id": "913d2148-4e1b-40c5-a447-2f310226e781",
   "metadata": {},
   "outputs": [],
   "source": [
    "game_events_mismatched"
   ]
  },
  {
   "cell_type": "code",
   "execution_count": null,
   "id": "5ad4bc6c-2720-4d98-a27c-465cecae94de",
   "metadata": {},
   "outputs": [],
   "source": [
    "play_id_play_per_game_mapper = game_1903_25.game_events_df[[\"play_id\" , \"play_per_game\"]].drop_duplicates()"
   ]
  },
  {
   "cell_type": "code",
   "execution_count": null,
   "id": "1d2be19f-41f4-40b1-85db-ab928eba7352",
   "metadata": {},
   "outputs": [],
   "source": [
    "game_1903_25.game_info_df.loc[game_1903_25.game_info_df[\"play_per_game\"] == play_id_play_per_game_mapper.loc[play_id_play_per_game_mapper[\"play_id\"] == 269, \"play_per_game\"].values[0], :]"
   ]
  },
  {
   "cell_type": "code",
   "execution_count": null,
   "id": "bf7b8add-0b2e-4397-befa-b572f80faba8",
   "metadata": {},
   "outputs": [],
   "source": [
    "game_1903_25.game_info_df"
   ]
  },
  {
   "cell_type": "code",
   "execution_count": 10,
   "id": "55867176-4099-40d6-b8b4-cd1262ae4b14",
   "metadata": {},
   "outputs": [
    {
     "data": {
      "text/html": [
       "<div>\n",
       "<style scoped>\n",
       "    .dataframe tbody tr th:only-of-type {\n",
       "        vertical-align: middle;\n",
       "    }\n",
       "\n",
       "    .dataframe tbody tr th {\n",
       "        vertical-align: top;\n",
       "    }\n",
       "\n",
       "    .dataframe thead th {\n",
       "        text-align: right;\n",
       "    }\n",
       "</style>\n",
       "<table border=\"1\" class=\"dataframe\">\n",
       "  <thead>\n",
       "    <tr style=\"text-align: right;\">\n",
       "      <th></th>\n",
       "      <th>game_str</th>\n",
       "      <th>home_team</th>\n",
       "      <th>away_team</th>\n",
       "      <th>at_bat</th>\n",
       "      <th>play_per_game</th>\n",
       "      <th>inning</th>\n",
       "      <th>top_bottom_inning</th>\n",
       "      <th>pitcher</th>\n",
       "      <th>catcher</th>\n",
       "      <th>first_base</th>\n",
       "      <th>second_base</th>\n",
       "      <th>third_base</th>\n",
       "      <th>shortstop</th>\n",
       "      <th>left_field</th>\n",
       "      <th>center_field</th>\n",
       "      <th>right_field</th>\n",
       "      <th>batter</th>\n",
       "      <th>first_baserunner</th>\n",
       "      <th>second_baserunner</th>\n",
       "      <th>third_baserunner</th>\n",
       "    </tr>\n",
       "  </thead>\n",
       "  <tbody>\n",
       "    <tr>\n",
       "      <th>270</th>\n",
       "      <td>1903_25_TeamNH_TeamA3</td>\n",
       "      <td>TeamA3</td>\n",
       "      <td>TeamNH</td>\n",
       "      <td>75</td>\n",
       "      <td>271</td>\n",
       "      <td>10</td>\n",
       "      <td>Top</td>\n",
       "      <td>2035</td>\n",
       "      <td>2222</td>\n",
       "      <td>2480</td>\n",
       "      <td>1628</td>\n",
       "      <td>1784</td>\n",
       "      <td>1643</td>\n",
       "      <td>1258</td>\n",
       "      <td>2737</td>\n",
       "      <td>1617</td>\n",
       "      <td>5592</td>\n",
       "      <td>6392</td>\n",
       "      <td>0</td>\n",
       "      <td>0</td>\n",
       "    </tr>\n",
       "  </tbody>\n",
       "</table>\n",
       "</div>"
      ],
      "text/plain": [
       "                  game_str home_team away_team  at_bat  play_per_game  inning  \\\n",
       "270  1903_25_TeamNH_TeamA3    TeamA3    TeamNH      75            271      10   \n",
       "\n",
       "    top_bottom_inning  pitcher  catcher  first_base  second_base  third_base  \\\n",
       "270               Top     2035     2222        2480         1628        1784   \n",
       "\n",
       "     shortstop  left_field  center_field  right_field  batter  \\\n",
       "270       1643        1258          2737         1617    5592   \n",
       "\n",
       "     first_baserunner  second_baserunner  third_baserunner  \n",
       "270              6392                  0                 0  "
      ]
     },
     "execution_count": 10,
     "metadata": {},
     "output_type": "execute_result"
    }
   ],
   "source": [
    "game_1903_25.get_this_play(269, \"game_info\")"
   ]
  },
  {
   "cell_type": "code",
   "execution_count": null,
   "id": "99b7220c-c7db-43d6-80ea-bc3b9ba19c43",
   "metadata": {},
   "outputs": [],
   "source": []
  },
  {
   "cell_type": "code",
   "execution_count": null,
   "id": "3d2f7734-42fe-4e91-b5c4-96bded88f76d",
   "metadata": {},
   "outputs": [],
   "source": []
  },
  {
   "cell_type": "code",
   "execution_count": null,
   "id": "5afe698c-351d-43ec-89b4-fd41511fae8d",
   "metadata": {},
   "outputs": [],
   "source": []
  },
  {
   "cell_type": "code",
   "execution_count": null,
   "id": "b556577b-17e0-4d57-b0bb-20398dfac08b",
   "metadata": {},
   "outputs": [],
   "source": []
  },
  {
   "cell_type": "markdown",
   "id": "1ba45223-7d64-49ff-bfa8-6ae24e463d09",
   "metadata": {},
   "source": [
    "## What I notice isn't there that might be nice to have:\n",
    "- the at_bat field is not there for older games\n",
    "- I don't think I have any outs or count\n",
    "    - Not sure I can get counts\n",
    "- ~~Players speed at a given time~~\n",
    "- Player orientation?\n",
    "    - I think I could noisily infer this\n",
    "- I don't think that \"ball bounce\" is in the older data -- how is this defined?\n",
    "    - I could maybe fill this one in if z_coord is < 0.5 or something arbitrarily small?"
   ]
  },
  {
   "cell_type": "markdown",
   "id": "4e5a7663-09dd-456d-96d3-dc209b42091b",
   "metadata": {},
   "source": [
    "### Try to fill in the at_bat field"
   ]
  },
  {
   "cell_type": "code",
   "execution_count": null,
   "id": "c8c362b8-bfe6-41ef-ba13-7a9642dea598",
   "metadata": {},
   "outputs": [],
   "source": [
    "ball_hitting_something_df = game_events_df.loc[game_events_df[\"event\"].isin([\"ball deflection\", \"ball deflection off of wall\", \"ball bounce\"]), :]"
   ]
  },
  {
   "cell_type": "code",
   "execution_count": null,
   "id": "ac4b4f50-265b-4310-ba64-aed219450218",
   "metadata": {},
   "outputs": [],
   "source": [
    "ball_hitting_something_df[\"event\"].value_counts()"
   ]
  },
  {
   "cell_type": "code",
   "execution_count": null,
   "id": "bd8681b8-0c90-46a5-92b4-108bd7f4c8f4",
   "metadata": {},
   "outputs": [],
   "source": [
    "def add_at_bat_data(df): \n",
    "    pass"
   ]
  },
  {
   "cell_type": "code",
   "execution_count": null,
   "id": "1e186323-cf15-4ec1-9ce3-a7abe31ea1d3",
   "metadata": {},
   "outputs": [],
   "source": [
    "game_info_df.head()"
   ]
  },
  {
   "cell_type": "code",
   "execution_count": null,
   "id": "f612b99e-2fa7-4b3e-91e6-a3696f83c26f",
   "metadata": {},
   "outputs": [],
   "source": [
    "# assumption: an at_bat is when the pitcher and batter are the same?\n",
    "# this is wrong when a pitcher is changed mid inning\n",
    "# this is also wrong when a batter is changed \n",
    "\n",
    "game_info_df.loc[:5, [\"inning\", \"top_bottom_inning\", \"pitcher\", \"batter\",]].groupby([\"inning\", \"top_bottom_inning\", \"pitcher\", \"batter\"]).cumcount() + 1"
   ]
  },
  {
   "cell_type": "code",
   "execution_count": null,
   "id": "42ed0b4b-1d64-43ce-a720-cb3ee95515e3",
   "metadata": {},
   "outputs": [],
   "source": [
    "grouping_cols = [\"inning\", \"top_bottom_inning\", \"pitcher\", \"batter\"]\n",
    "\n",
    "new_game_info_df = game_info_df.copy()\n",
    "\n",
    "\n",
    "new_game_info_df.loc[:10, grouping_cols]"
   ]
  },
  {
   "cell_type": "code",
   "execution_count": null,
   "id": "41e3ee20-d8e7-4472-b96e-6046e2179a42",
   "metadata": {},
   "outputs": [],
   "source": [
    "new_game_info_df[\"play_per_pa\"] = new_game_info_df.loc[:, :].groupby(grouping_cols).cumcount() + 1"
   ]
  },
  {
   "cell_type": "code",
   "execution_count": null,
   "id": "a0093bd5-add6-4988-82ce-fcd02ec9da79",
   "metadata": {},
   "outputs": [],
   "source": [
    "# this is a check: the play_per_game should be equal to the running sum of play_per_pa when there is a new at bat?\n",
    "\n",
    "new_game_info_df[\"play_per_pa\"].head(10).cumsum()"
   ]
  },
  {
   "cell_type": "code",
   "execution_count": null,
   "id": "618040b6-d0ae-420b-8037-052b4bfa8f21",
   "metadata": {},
   "outputs": [],
   "source": [
    "new_game_info_df.head()"
   ]
  },
  {
   "cell_type": "code",
   "execution_count": null,
   "id": "df161a22-dfc7-4518-9c36-22e85826702e",
   "metadata": {},
   "outputs": [],
   "source": [
    "new_game_info_df[\"new_at_bat\"] = (new_game_info_df.loc[new_game_info_df[\"play_per_pa\"] == 1 , [\"play_per_pa\"]]\\\n",
    ".groupby(\"play_per_pa\").cumcount() + 1)\n",
    "\n",
    "new_game_info_df[\"new_at_bat\"] = new_game_info_df[\"new_at_bat\"].fillna(method='ffill', inplace=False).astype(int)"
   ]
  },
  {
   "cell_type": "code",
   "execution_count": null,
   "id": "57e56fb8-acc6-4233-a397-31c2068d7d90",
   "metadata": {},
   "outputs": [],
   "source": [
    "new_game_info_df.loc[new_game_info_df[\"at_bat\"] + 1 == new_game_info_df[\"new_at_bat\"], :].head()"
   ]
  },
  {
   "cell_type": "code",
   "execution_count": null,
   "id": "60095207-1e00-4119-b4a2-733b2f47d11a",
   "metadata": {},
   "outputs": [],
   "source": [
    "new_game_info_df[\"new_at_bat_shifted\"] = new_game_info_df[\"new_at_bat\"].shift()"
   ]
  },
  {
   "cell_type": "code",
   "execution_count": null,
   "id": "dbaf3cdf-6e55-4d31-90b2-7c83df5cdcc6",
   "metadata": {},
   "outputs": [],
   "source": [
    "new_game_info_df.loc[(new_game_info_df[\"at_bat\"] != new_game_info_df[\"new_at_bat\"]) &\\\n",
    "                     (new_game_info_df[\"new_at_bat\"] != new_game_info_df[\"new_at_bat_shifted\"])]"
   ]
  },
  {
   "cell_type": "code",
   "execution_count": null,
   "id": "43c1fe82-6c8b-4ebb-af8d-c5f66955e4de",
   "metadata": {},
   "outputs": [],
   "source": [
    "new_game_info_df.loc[(new_game_info_df[\"at_bat\"] != new_game_info_df[\"new_at_bat\"]) & (new_game_info_df[\"batter\"] == 0), :]"
   ]
  },
  {
   "cell_type": "code",
   "execution_count": null,
   "id": "46832837-6b57-42b6-9a24-401d435ec127",
   "metadata": {},
   "outputs": [],
   "source": [
    "new_game_info_df.loc[130:135, :]"
   ]
  },
  {
   "cell_type": "code",
   "execution_count": null,
   "id": "b4992bab-a58f-4ba4-abe6-69c44f9c5df2",
   "metadata": {},
   "outputs": [],
   "source": [
    "# WHAT THE HECK, THE PLAY_PER_GAME AND PLAY_ID ARE DIFFERENT?"
   ]
  },
  {
   "cell_type": "code",
   "execution_count": null,
   "id": "525efa68-646f-48d3-9513-ff4bb2acf3e0",
   "metadata": {},
   "outputs": [],
   "source": [
    "# HMM I kind of suspect that this batter being 0 would mean that the batter for the next play is the correct batter"
   ]
  },
  {
   "cell_type": "code",
   "execution_count": null,
   "id": "04d3278b-fb3c-4237-ad62-d7a6039e9618",
   "metadata": {},
   "outputs": [],
   "source": [
    "game_events_df.loc[game_events_df[\"play_id\"] == 132, :]"
   ]
  },
  {
   "cell_type": "code",
   "execution_count": null,
   "id": "d3f03e15-9a17-4189-859f-1a77969e1264",
   "metadata": {},
   "outputs": [],
   "source": [
    "game_events_df.loc[game_events_df[\"play_id\"] == 133, :]"
   ]
  },
  {
   "cell_type": "code",
   "execution_count": null,
   "id": "c7b3b2ed-33af-4aeb-a61b-150a074cd408",
   "metadata": {},
   "outputs": [],
   "source": [
    "player_pos = bf.game_obj.player_pos_df.copy()"
   ]
  },
  {
   "cell_type": "code",
   "execution_count": null,
   "id": "b8704e76-d28a-44ad-b1d6-f58b112acd5c",
   "metadata": {},
   "outputs": [],
   "source": [
    "# I think I expect this one to be 2053\n",
    "\n",
    "# Also batters are at a frequency of 20 Hz it looks like?\n",
    "\n",
    "player_pos.loc[(player_pos[\"play_id\"] == 133 ) & ( player_pos[\"player_position\"] == 10), :]"
   ]
  },
  {
   "cell_type": "code",
   "execution_count": null,
   "id": "6e947b67-d83c-4b4a-84c2-5ebad0272b68",
   "metadata": {},
   "outputs": [],
   "source": []
  },
  {
   "cell_type": "code",
   "execution_count": null,
   "id": "3c3e2e9c-d424-4f37-b65f-1ad3b6f07e20",
   "metadata": {},
   "outputs": [],
   "source": []
  },
  {
   "cell_type": "code",
   "execution_count": null,
   "id": "136aaaa7-f0d6-4660-b20f-e97ccef411ce",
   "metadata": {},
   "outputs": [],
   "source": []
  },
  {
   "cell_type": "code",
   "execution_count": null,
   "id": "0651d1c6-fc74-4278-88aa-63da7931088f",
   "metadata": {},
   "outputs": [],
   "source": []
  },
  {
   "cell_type": "code",
   "execution_count": null,
   "id": "efaf05fe-4e01-4586-aac2-17bf73ffcece",
   "metadata": {},
   "outputs": [],
   "source": []
  },
  {
   "cell_type": "code",
   "execution_count": null,
   "id": "06949160-be88-468e-9ed6-b1f6994e7246",
   "metadata": {},
   "outputs": [],
   "source": [
    "# Something is really off here about how I am calculating ABs\n",
    "\n",
    "bf = Baseball_Field(which_game=which_game)\n"
   ]
  },
  {
   "cell_type": "code",
   "execution_count": null,
   "id": "1c7bdc4a-0271-418b-9065-9e26f6d65cf5",
   "metadata": {},
   "outputs": [],
   "source": [
    "bf.create_gif(play_id=3, tag=\"_at_bat_probs\")"
   ]
  },
  {
   "cell_type": "code",
   "execution_count": null,
   "id": "b106b9f5-6eb6-4969-81d0-260c516d39cf",
   "metadata": {},
   "outputs": [],
   "source": [
    "bf.create_gif(play_id=4, tag=\"_at_bat_probs\")"
   ]
  },
  {
   "cell_type": "code",
   "execution_count": null,
   "id": "4e514214-fdfc-4de8-a13c-db3d20f8232f",
   "metadata": {},
   "outputs": [],
   "source": [
    "bf.create_gif(play_id=133, tag=\"_at_bat_probs\")"
   ]
  },
  {
   "cell_type": "code",
   "execution_count": null,
   "id": "b4f9fa83-0e76-4482-a2ff-c5d90b9eba6f",
   "metadata": {},
   "outputs": [],
   "source": []
  },
  {
   "cell_type": "code",
   "execution_count": null,
   "id": "c71491ce-6413-4a1a-93bb-c255e4f310d7",
   "metadata": {},
   "outputs": [],
   "source": [
    "## something happens at play 101, where a batter is awarded first with no batter? I think this is a IBB or HBP?\n",
    "\n",
    "new_game_info_df.loc[98:105, :]"
   ]
  },
  {
   "cell_type": "code",
   "execution_count": null,
   "id": "9e8ed6db-83eb-41a9-8617-31267b45a12b",
   "metadata": {},
   "outputs": [],
   "source": [
    "game_events_df.loc[game_events_df[\"play_per_game\"] == 101, :]"
   ]
  },
  {
   "cell_type": "code",
   "execution_count": null,
   "id": "72ffc906-6397-4799-a37e-eabcdb6170c8",
   "metadata": {},
   "outputs": [],
   "source": [
    "new_game_info_df.loc[new_game_info_df[\"at_bat\"] + 2 == new_game_info_df[\"new_at_bat\"], :]"
   ]
  },
  {
   "cell_type": "code",
   "execution_count": null,
   "id": "768e0aaa-b41e-4c19-81e0-c8092e4f6904",
   "metadata": {},
   "outputs": [],
   "source": [
    "# Something weird also happens at play id 160 and 202\n",
    "\n",
    "new_game_info_df.loc[158:162, :]"
   ]
  },
  {
   "cell_type": "code",
   "execution_count": null,
   "id": "4153df0e-d907-4b8f-a58b-02fc83904552",
   "metadata": {},
   "outputs": [],
   "source": []
  },
  {
   "cell_type": "code",
   "execution_count": null,
   "id": "f08dd812-7bb4-4573-ad68-3f7c0bc56c98",
   "metadata": {},
   "outputs": [],
   "source": [
    "# gotta be honest, I am a bit confused by this one -- there are several plays in a row, where the \n",
    "# events show a pitch, but the game info doesn't show a batter?\n",
    "game_events_df.loc[game_events_df[\"play_per_game\"] == 162, :]"
   ]
  },
  {
   "cell_type": "code",
   "execution_count": null,
   "id": "39473803-20e7-4c93-a857-6502ce6e6d63",
   "metadata": {},
   "outputs": [],
   "source": [
    "game_info_df.loc[200:205, :]"
   ]
  },
  {
   "cell_type": "code",
   "execution_count": null,
   "id": "9c04cf4c-2258-406d-8841-c8dc691a13ec",
   "metadata": {},
   "outputs": [],
   "source": [
    "new_game_info_df.loc[200:205, :]"
   ]
  },
  {
   "cell_type": "code",
   "execution_count": null,
   "id": "60bda502-da48-4356-8d04-50236315a329",
   "metadata": {},
   "outputs": [],
   "source": [
    "game_events_df.loc[game_events_df[\"play_per_game\"] == 202, :]"
   ]
  },
  {
   "cell_type": "code",
   "execution_count": null,
   "id": "3c9047f9-ca81-4527-ae57-ec4999310590",
   "metadata": {},
   "outputs": [],
   "source": [
    "# I am a bit confused by this one as well -- this one has a play which shows the batter and runner on first both advance?\n",
    "# so is that like a dropped 3rd that kicks around the backstop?\n",
    "\n",
    "game_events_df.loc[game_events_df[\"play_per_game\"] == 203, :]"
   ]
  },
  {
   "cell_type": "code",
   "execution_count": null,
   "id": "6f50b06b-e209-4ebd-b767-9d4fa823dde7",
   "metadata": {},
   "outputs": [],
   "source": [
    "# gotta be honest, I am a bit confused by this one -- there are several plays in a row, where the \n",
    "# events show a pitch, but the game info doesn't show a batter?\n",
    "game_events_df.loc[game_events_df[\"play_per_game\"] == 203, :]"
   ]
  },
  {
   "cell_type": "code",
   "execution_count": null,
   "id": "39667b47-aeb7-4e3f-ad00-1a7825865fe9",
   "metadata": {},
   "outputs": [],
   "source": []
  },
  {
   "cell_type": "code",
   "execution_count": null,
   "id": "7aa109b9-2de5-4810-bb36-b610b02d6a6b",
   "metadata": {},
   "outputs": [],
   "source": []
  },
  {
   "cell_type": "code",
   "execution_count": null,
   "id": "9163350f-3507-4bd2-bdb6-75af8551c927",
   "metadata": {},
   "outputs": [],
   "source": [
    "new_game_info_df.loc[new_game_info_df[\"at_bat\"] + 3 == new_game_info_df[\"new_at_bat\"], :]"
   ]
  },
  {
   "cell_type": "code",
   "execution_count": null,
   "id": "2dbd49f9-680b-4287-979e-3da1dd4e9cc0",
   "metadata": {},
   "outputs": [],
   "source": []
  },
  {
   "cell_type": "markdown",
   "id": "4578ffab-a768-48b7-b6f5-cc76433c9741",
   "metadata": {},
   "source": [
    "#### Use at_bat field to fill in outs?"
   ]
  },
  {
   "cell_type": "markdown",
   "id": "a155c2c2-b81a-4889-a370-9316c4a3088b",
   "metadata": {},
   "source": [
    "- double check me on that"
   ]
  },
  {
   "cell_type": "code",
   "execution_count": null,
   "id": "b45be947-3a88-482f-8079-0c0ccc63a65f",
   "metadata": {},
   "outputs": [],
   "source": []
  },
  {
   "cell_type": "code",
   "execution_count": null,
   "id": "8c89b00d-ea16-4dcf-b46f-98bd0efdf47a",
   "metadata": {},
   "outputs": [],
   "source": []
  },
  {
   "cell_type": "code",
   "execution_count": null,
   "id": "5a5f6465-33df-4388-b811-2239c5cc5a9e",
   "metadata": {},
   "outputs": [],
   "source": [
    "### "
   ]
  },
  {
   "cell_type": "code",
   "execution_count": null,
   "id": "473304df-1fb0-4418-9389-7f92c5a99833",
   "metadata": {},
   "outputs": [],
   "source": []
  },
  {
   "cell_type": "code",
   "execution_count": null,
   "id": "b8b36bc6-b483-4db0-84a3-3457085fc01d",
   "metadata": {},
   "outputs": [],
   "source": []
  },
  {
   "cell_type": "code",
   "execution_count": null,
   "id": "21541948-c1a9-4402-be41-6b0f8785abc9",
   "metadata": {},
   "outputs": [],
   "source": []
  },
  {
   "cell_type": "code",
   "execution_count": null,
   "id": "d4b17dfc-dbad-4452-8687-5da6f081940d",
   "metadata": {},
   "outputs": [],
   "source": []
  },
  {
   "cell_type": "code",
   "execution_count": null,
   "id": "94d25be4-53af-45d0-82dd-27417ad20b0f",
   "metadata": {},
   "outputs": [],
   "source": []
  },
  {
   "cell_type": "markdown",
   "id": "45aa4023-d1c5-49ee-babd-cbeae5a0248f",
   "metadata": {},
   "source": [
    "### What are the most common events?\n",
    "- Corollary: when were they added?"
   ]
  },
  {
   "cell_type": "code",
   "execution_count": null,
   "id": "51d4f57a-dda9-4013-b4b2-0d4c2afdbc18",
   "metadata": {},
   "outputs": [],
   "source": [
    "# These figures aren't all that useful as they stand honestly"
   ]
  },
  {
   "cell_type": "code",
   "execution_count": null,
   "id": "1ee1769d-1e2b-4f5e-bc8a-3d0a0d3d5060",
   "metadata": {},
   "outputs": [],
   "source": [
    "game_events_monitoring = pd.DataFrame()\n",
    "\n",
    "root_dirs = ['data/game_events/'] \n",
    "\n",
    "\n",
    "for root_dir in root_dirs:\n",
    "    for sub_dir, dirs, files in os.walk(root_dir):\n",
    "        for file in files:\n",
    "            if \"checkpoint\" in file:\n",
    "                continue\n",
    "            \n",
    "            temp_game_events_df = pd.read_csv(os.path.join(sub_dir, file), index_col=0)\n",
    "            temp_game_events_df[\"event\"] = temp_game_events_df[\"event_code\"].map(lambda x: EVENT_CODE_TO_DESC[x])\n",
    "            \n",
    "            temp_df = pd.DataFrame(temp_game_events_df[\"event\"].value_counts(normalize=True))\n",
    "            \n",
    "            # take just the first part\n",
    "            temp_df[\"game\"] = file.split(\".csv\")[0]\n",
    "            \n",
    "            temp_df = temp_df.reset_index(drop=False)\n",
    "            \n",
    "            game_events_monitoring = pd.concat([game_events_monitoring, temp_df])\n",
    "\n",
    "            \n",
    "game_events_monitoring = game_events_monitoring.reset_index()                \n"
   ]
  },
  {
   "cell_type": "code",
   "execution_count": null,
   "id": "b29f067f-7dc7-48b4-89d6-26f326a5cd4b",
   "metadata": {},
   "outputs": [],
   "source": [
    "# some plots by game might be useful here, or like a little dashboard or something "
   ]
  },
  {
   "cell_type": "code",
   "execution_count": null,
   "id": "5f17e505-f741-4eda-aff6-01b60e8b0f96",
   "metadata": {},
   "outputs": [],
   "source": [
    "game_events_monitoring"
   ]
  },
  {
   "cell_type": "code",
   "execution_count": null,
   "id": "d25b0c35-4265-4bb8-b46f-050364eea20d",
   "metadata": {},
   "outputs": [],
   "source": [
    "game_events_monitoring_df = game_events_monitoring.pivot(index='game', columns=\"index\", values=\"event\").sort_index()"
   ]
  },
  {
   "cell_type": "code",
   "execution_count": null,
   "id": "414ff5ea-5fb3-4b36-931d-4524e9961d8c",
   "metadata": {},
   "outputs": [],
   "source": [
    "game_events_monitoring_df = game_events_monitoring_df.reset_index()\n",
    "\n",
    "game_events_monitoring_df[\"away\"] = game_events_monitoring_df[\"game\"].str.split(\"_Team\").apply(lambda x: x[1])\n",
    "game_events_monitoring_df[\"home\"] = game_events_monitoring_df[\"game\"].str.split(\"_Team\").apply(lambda x: x[-1])\n",
    "\n",
    "game_events_monitoring_df[\"year\"] = game_events_monitoring_df[\"game\"].str.strip(\"game_events-\").str.split(\"_\").apply(lambda x: x[0])\n",
    "game_events_monitoring_df[\"game_num\"] = game_events_monitoring_df[\"game\"].str.strip(\"game_events-\").str.split(\"_\").apply(lambda x: x[1])\n",
    "\n",
    "# game_events_monitoring_df = game_events_monitoring_df.set_index('game')"
   ]
  },
  {
   "cell_type": "code",
   "execution_count": null,
   "id": "96516e95-edcd-4b87-86f1-dcbf5cf79591",
   "metadata": {},
   "outputs": [],
   "source": [
    "fig, ax = plt.subplots(ncols=2, nrows=2, figsize=(12,12))\n",
    "\n",
    "i =0\n",
    "for team in ['B', 'A3', 'A2', 'A1']:\n",
    "    \n",
    "    lines = game_events_monitoring_df.loc[game_events_monitoring_df[\"home\"] == team, :].plot(kind = \"line\", ax=ax[i // 2][i % 2])\n",
    "    \n",
    "    i += 1\n",
    "\n",
    "plt.xticks(rotation=90)"
   ]
  },
  {
   "cell_type": "code",
   "execution_count": null,
   "id": "8df93f51-2c7b-48f9-85dd-ef05aba3b2a1",
   "metadata": {},
   "outputs": [],
   "source": [
    "for year in [\"1900\", \"1901\", \"1902\", \"1903\"]:\n",
    "    i = 0\n",
    "    \n",
    "    this_year = game_events_monitoring_df.loc[(game_events_monitoring_df[\"year\"] == year), :]\n",
    "    this_year_teams = this_year[\"home\"].unique()\n",
    "    \n",
    "    fig, ax = plt.subplots(nrows=4 , figsize=(12,12))\n",
    "\n",
    "    for team in this_year[\"home\"].unique():\n",
    "\n",
    "        plot_df = game_events_monitoring_df.loc[(game_events_monitoring_df[\"home\"] == team) & (game_events_monitoring_df[\"year\"] == year), :]\n",
    "        \n",
    "        \n",
    "        plot_df.plot(kind = \"line\", x=\"game_num\", ax=ax[i])\n",
    "\n",
    "        i += 1\n",
    "\n",
    "plt.xticks(rotation=90)"
   ]
  },
  {
   "cell_type": "code",
   "execution_count": null,
   "id": "ad8adb7e-ca48-4213-8ae5-1013b7a1f0cf",
   "metadata": {},
   "outputs": [],
   "source": []
  },
  {
   "cell_type": "code",
   "execution_count": null,
   "id": "fcc4700a-e40d-4e1d-af53-a1ad25fe67a6",
   "metadata": {},
   "outputs": [],
   "source": []
  },
  {
   "cell_type": "code",
   "execution_count": null,
   "id": "01ea99e8-b6c1-4df6-abff-af2f220601c2",
   "metadata": {},
   "outputs": [],
   "source": []
  },
  {
   "cell_type": "code",
   "execution_count": null,
   "id": "e53b143d-a360-4694-90c4-56e920c69762",
   "metadata": {},
   "outputs": [],
   "source": []
  },
  {
   "cell_type": "markdown",
   "id": "1795213e-0aad-4b10-9461-d38d7b385cd3",
   "metadata": {},
   "source": [
    "### How many throws does each player(/position) make?"
   ]
  },
  {
   "cell_type": "code",
   "execution_count": null,
   "id": "2e3b49ef-9a82-4800-ace7-fea21fb34be4",
   "metadata": {},
   "outputs": [],
   "source": [
    "all_game_events = concat_game_events_into_single_file(write=False)"
   ]
  },
  {
   "cell_type": "code",
   "execution_count": null,
   "id": "df40bab2-a202-45ca-907c-e5b3e4bb79f5",
   "metadata": {},
   "outputs": [],
   "source": [
    "all_game_events.head()"
   ]
  },
  {
   "cell_type": "code",
   "execution_count": null,
   "id": "de502fe2-1596-436e-b4d5-e8ee0991460d",
   "metadata": {},
   "outputs": [],
   "source": [
    "all_game_events[\"event\"].value_counts()"
   ]
  },
  {
   "cell_type": "code",
   "execution_count": null,
   "id": "67277640-6b1d-4054-b550-e477a0b7a5f3",
   "metadata": {},
   "outputs": [],
   "source": [
    "group_by_cols = [\"player_position\", \"event\"]\n",
    "\n",
    "\n",
    "first_base_receives = all_game_events.loc[(all_game_events[\"event\"] == \"ball acquired\") &\\\n",
    "                                      (all_game_events[\"player_position\"] == 3)&\\\n",
    "                                      (all_game_events[\"last_event\"] == \"throw (ball-in-play)\"), :]\n",
    "\n",
    "first_base_receives.loc[:, \"last_player_position\"].value_counts(normalize = True).plot(kind=\"barh\", title=\"First Baseman Recieves across all data\")\n",
    "\n",
    "plt.ylabel(\"Throwing Player\")\n",
    "plt.xlabel(\"Frequency\")\n",
    "\n",
    "print(first_base_receives.shape)\n",
    "\n"
   ]
  },
  {
   "cell_type": "code",
   "execution_count": null,
   "id": "7bc5cc0c-099f-4f6d-b99d-a1916d8f9d5a",
   "metadata": {},
   "outputs": [],
   "source": [
    "game_events_df[\"last_event_code\"] = game_events_df[\"event_code\"].shift(1)"
   ]
  },
  {
   "cell_type": "code",
   "execution_count": null,
   "id": "d268c804-e787-47f4-9d5d-c38651baa368",
   "metadata": {},
   "outputs": [],
   "source": [
    "game_events_df[\"last_player_position\"] = game_events_df[\"player_position\"].shift(1)"
   ]
  },
  {
   "cell_type": "code",
   "execution_count": null,
   "id": "9439a659-f995-448f-81b6-a8cf0d763a7d",
   "metadata": {},
   "outputs": [],
   "source": [
    "game_events_df[\"last_event\"] = game_events_df[\"last_event_code\"].map(lambda x: EVENT_CODE_TO_DESC[x] if pd.notnull(x) else x)"
   ]
  },
  {
   "cell_type": "code",
   "execution_count": null,
   "id": "4596049e-02b9-4335-9965-d2e417b8f642",
   "metadata": {},
   "outputs": [],
   "source": [
    "this_game_first_base_acqs = game_events_df.loc[(game_events_df[\"event\"] == \"ball acquired\") &\\\n",
    "                                               (game_events_df[\"player_position\"] == 3) &\\\n",
    "                                               (game_events_df[\"last_event\"] == \"throw (ball-in-play)\")\n",
    "                                               , :]"
   ]
  },
  {
   "cell_type": "code",
   "execution_count": null,
   "id": "5de1f48b-7a23-45cd-9324-688a1b5b927f",
   "metadata": {},
   "outputs": [],
   "source": [
    "this_game_first_base_acqs.shape[0]"
   ]
  },
  {
   "cell_type": "code",
   "execution_count": null,
   "id": "e6f658b3-e850-4853-8d2a-34728384d282",
   "metadata": {},
   "outputs": [],
   "source": []
  },
  {
   "cell_type": "code",
   "execution_count": null,
   "id": "a2626f96-aedb-4fdb-8ff0-15ce29708cb1",
   "metadata": {},
   "outputs": [],
   "source": []
  },
  {
   "cell_type": "markdown",
   "id": "dfc757cf-1700-484a-9e9a-35c6632c1f6c",
   "metadata": {},
   "source": [
    "### How often is the ball acquired by each player?"
   ]
  },
  {
   "cell_type": "code",
   "execution_count": null,
   "id": "973c6c92-7153-4854-b8c9-1bb5f14295b9",
   "metadata": {},
   "outputs": [],
   "source": []
  },
  {
   "cell_type": "code",
   "execution_count": null,
   "id": "30e90abd-7aa4-4953-9383-ac82c698d741",
   "metadata": {},
   "outputs": [],
   "source": []
  },
  {
   "cell_type": "code",
   "execution_count": null,
   "id": "a6632797-3dda-466a-b893-25b16f18181b",
   "metadata": {},
   "outputs": [],
   "source": []
  },
  {
   "cell_type": "code",
   "execution_count": null,
   "id": "a1c509fe-a68c-45c5-a9fc-c88d77d36836",
   "metadata": {},
   "outputs": [],
   "source": []
  },
  {
   "cell_type": "code",
   "execution_count": null,
   "id": "a6ce6868-6cc1-4647-abdb-9bb20eb4f743",
   "metadata": {},
   "outputs": [],
   "source": []
  },
  {
   "cell_type": "code",
   "execution_count": null,
   "id": "aae42452-9e98-4d0b-8eca-43a07e216b08",
   "metadata": {},
   "outputs": [],
   "source": []
  }
 ],
 "metadata": {
  "kernelspec": {
   "display_name": "Python 3 (ipykernel)",
   "language": "python",
   "name": "python3"
  },
  "language_info": {
   "codemirror_mode": {
    "name": "ipython",
    "version": 3
   },
   "file_extension": ".py",
   "mimetype": "text/x-python",
   "name": "python",
   "nbconvert_exporter": "python",
   "pygments_lexer": "ipython3",
   "version": "3.11.3"
  }
 },
 "nbformat": 4,
 "nbformat_minor": 5
}
